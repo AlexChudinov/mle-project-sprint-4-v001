{
 "cells": [
  {
   "cell_type": "markdown",
   "id": "f4095ae4-7294-4b28-853e-88d235002c97",
   "metadata": {},
   "source": [
    "# Инициализация"
   ]
  },
  {
   "cell_type": "markdown",
   "id": "2f2318d2-9df8-4911-915e-15b725c44f8a",
   "metadata": {},
   "source": [
    "Загружаем библиотеки необходимые для выполнения кода ноутбука."
   ]
  },
  {
   "cell_type": "code",
   "execution_count": 2,
   "id": "662d04e7-1b0b-4e4a-9ddf-4526d7fef119",
   "metadata": {},
   "outputs": [],
   "source": [
    "import gc\n",
    "import os\n",
    "from pathlib import Path\n",
    "\n",
    "import matplotlib.pyplot as plt\n",
    "import numpy as np\n",
    "import pandas as pd\n",
    "import pyarrow as pa\n",
    "from sklearn.preprocessing import LabelEncoder, MinMaxScaler"
   ]
  },
  {
   "cell_type": "markdown",
   "id": "9ec24667",
   "metadata": {},
   "source": [
    "Проверяем окружение, создаем необходимые каталоги и файлы"
   ]
  },
  {
   "cell_type": "code",
   "execution_count": 2,
   "id": "5a6e1929",
   "metadata": {},
   "outputs": [
    {
     "name": "stdout",
     "output_type": "stream",
     "text": [
      "All files are already downloaded, if you need to forcely download them, please, use the -f or --force option\n"
     ]
    },
    {
     "name": "stdout",
     "output_type": "stream",
     "text": [
      "CPU times: user 7.73 ms, sys: 3.93 ms, total: 11.7 ms\n",
      "Wall time: 116 ms\n"
     ]
    }
   ],
   "source": [
    "%%time\n",
    "!scripts/download_data.sh"
   ]
  },
  {
   "cell_type": "code",
   "execution_count": 3,
   "id": "bd595418",
   "metadata": {},
   "outputs": [],
   "source": [
    "input_data_path = Path('ym')\n",
    "output_data_path = Path('data')\n",
    "output_data_path.mkdir(exist_ok=True)\n",
    "output_recommendations_path = Path('recommendations')\n",
    "output_recommendations_path.mkdir(exist_ok=True)\n",
    "\n",
    "assert input_data_path.exists()\n",
    "assert input_data_path.is_dir()\n",
    "assert set(file.stem for file in input_data_path.glob('*.parquet')) == {\"catalog_names\", \"interactions\", \"tracks\"} "
   ]
  },
  {
   "cell_type": "markdown",
   "id": "bf80fbc5-b660-4fac-8fbb-a5cae77313b3",
   "metadata": {},
   "source": [
    "# === ЭТАП 1 ==="
   ]
  },
  {
   "cell_type": "markdown",
   "id": "5263a8b3-fe99-4204-8a2e-105182792c11",
   "metadata": {},
   "source": [
    "# Загрузка первичных данных"
   ]
  },
  {
   "cell_type": "markdown",
   "id": "1b54a6a5-1656-4e3c-99d1-49dc39451d33",
   "metadata": {},
   "source": [
    "Загружаем первичные данные из файлов:\n",
    "- tracks.parquet\n",
    "- catalog_names.parquet\n",
    "- interactions.parquet\n",
    "\n",
    "Cтруктура данных:\n",
    "\n",
    " * `interactions`:\n",
    "    - `user_id` — идентификатор пользователя\n",
    "    - `track_id` — идентификатор музыкального трека\n",
    "    - `track_seq` — номер места трека в истории пользователя\n",
    "    - `started_at` — дата начала прослушивания трека\n",
    "\n",
    " * `tracks`:\n",
    "    - `track_id` — идентификатор музыкального трека\n",
    "    - `albums` —  список идентификаторов альбомов, содержащих трек\n",
    "    - `artists` — список идентификаторов исполнителей трека\n",
    "    - `genres` — список идентификаторов жанров, к которым принадлежит трек\n",
    "\n",
    " * `catalog_names`:\n",
    "    - `id` — идентификатор одной из каталожных единиц (трека, альбома, исполнителя, жанра)\n",
    "    - `type` — тип идентификатора\n",
    "    - `name` — имя (название) каталожной единицы"
   ]
  },
  {
   "cell_type": "code",
   "execution_count": 4,
   "id": "5d4b8961-3f35-4e58-9d6b-3e2dbd2c4224",
   "metadata": {},
   "outputs": [],
   "source": [
    "tracks = pd.read_parquet(input_data_path / \"tracks.parquet\")\n",
    "catalog_names = pd.read_parquet(input_data_path / \"catalog_names.parquet\")\n",
    "interactions = pd.read_parquet(input_data_path / \"interactions.parquet\")"
   ]
  },
  {
   "cell_type": "code",
   "execution_count": 5,
   "id": "da29dc02",
   "metadata": {},
   "outputs": [
    {
     "data": {
      "text/html": [
       "<div>\n",
       "<style scoped>\n",
       "    .dataframe tbody tr th:only-of-type {\n",
       "        vertical-align: middle;\n",
       "    }\n",
       "\n",
       "    .dataframe tbody tr th {\n",
       "        vertical-align: top;\n",
       "    }\n",
       "\n",
       "    .dataframe thead th {\n",
       "        text-align: right;\n",
       "    }\n",
       "</style>\n",
       "<table border=\"1\" class=\"dataframe\">\n",
       "  <thead>\n",
       "    <tr style=\"text-align: right;\">\n",
       "      <th></th>\n",
       "      <th>track_id</th>\n",
       "      <th>albums</th>\n",
       "      <th>artists</th>\n",
       "      <th>genres</th>\n",
       "    </tr>\n",
       "  </thead>\n",
       "  <tbody>\n",
       "    <tr>\n",
       "      <th>0</th>\n",
       "      <td>26</td>\n",
       "      <td>[3, 2490753]</td>\n",
       "      <td>[16]</td>\n",
       "      <td>[11, 21]</td>\n",
       "    </tr>\n",
       "    <tr>\n",
       "      <th>1</th>\n",
       "      <td>38</td>\n",
       "      <td>[3, 2490753]</td>\n",
       "      <td>[16]</td>\n",
       "      <td>[11, 21]</td>\n",
       "    </tr>\n",
       "    <tr>\n",
       "      <th>2</th>\n",
       "      <td>135</td>\n",
       "      <td>[12, 214, 2490809]</td>\n",
       "      <td>[84]</td>\n",
       "      <td>[11]</td>\n",
       "    </tr>\n",
       "    <tr>\n",
       "      <th>3</th>\n",
       "      <td>136</td>\n",
       "      <td>[12, 214, 2490809]</td>\n",
       "      <td>[84]</td>\n",
       "      <td>[11]</td>\n",
       "    </tr>\n",
       "    <tr>\n",
       "      <th>4</th>\n",
       "      <td>138</td>\n",
       "      <td>[12, 214, 322, 72275, 72292, 91199, 213505, 24...</td>\n",
       "      <td>[84]</td>\n",
       "      <td>[11]</td>\n",
       "    </tr>\n",
       "  </tbody>\n",
       "</table>\n",
       "</div>"
      ],
      "text/plain": [
       "   track_id                                             albums artists  \\\n",
       "0        26                                       [3, 2490753]    [16]   \n",
       "1        38                                       [3, 2490753]    [16]   \n",
       "2       135                                 [12, 214, 2490809]    [84]   \n",
       "3       136                                 [12, 214, 2490809]    [84]   \n",
       "4       138  [12, 214, 322, 72275, 72292, 91199, 213505, 24...    [84]   \n",
       "\n",
       "     genres  \n",
       "0  [11, 21]  \n",
       "1  [11, 21]  \n",
       "2      [11]  \n",
       "3      [11]  \n",
       "4      [11]  "
      ]
     },
     "execution_count": 5,
     "metadata": {},
     "output_type": "execute_result"
    }
   ],
   "source": [
    "tracks.head()"
   ]
  },
  {
   "cell_type": "code",
   "execution_count": 6,
   "id": "f6bd0b20",
   "metadata": {},
   "outputs": [
    {
     "data": {
      "text/html": [
       "<div>\n",
       "<style scoped>\n",
       "    .dataframe tbody tr th:only-of-type {\n",
       "        vertical-align: middle;\n",
       "    }\n",
       "\n",
       "    .dataframe tbody tr th {\n",
       "        vertical-align: top;\n",
       "    }\n",
       "\n",
       "    .dataframe thead th {\n",
       "        text-align: right;\n",
       "    }\n",
       "</style>\n",
       "<table border=\"1\" class=\"dataframe\">\n",
       "  <thead>\n",
       "    <tr style=\"text-align: right;\">\n",
       "      <th></th>\n",
       "      <th>id</th>\n",
       "      <th>type</th>\n",
       "      <th>name</th>\n",
       "    </tr>\n",
       "  </thead>\n",
       "  <tbody>\n",
       "    <tr>\n",
       "      <th>0</th>\n",
       "      <td>3</td>\n",
       "      <td>album</td>\n",
       "      <td>Taller Children</td>\n",
       "    </tr>\n",
       "    <tr>\n",
       "      <th>1</th>\n",
       "      <td>12</td>\n",
       "      <td>album</td>\n",
       "      <td>Wild Young Hearts</td>\n",
       "    </tr>\n",
       "    <tr>\n",
       "      <th>2</th>\n",
       "      <td>13</td>\n",
       "      <td>album</td>\n",
       "      <td>Lonesome Crow</td>\n",
       "    </tr>\n",
       "    <tr>\n",
       "      <th>3</th>\n",
       "      <td>17</td>\n",
       "      <td>album</td>\n",
       "      <td>Graffiti Soul</td>\n",
       "    </tr>\n",
       "    <tr>\n",
       "      <th>4</th>\n",
       "      <td>26</td>\n",
       "      <td>album</td>\n",
       "      <td>Blues Six Pack</td>\n",
       "    </tr>\n",
       "  </tbody>\n",
       "</table>\n",
       "</div>"
      ],
      "text/plain": [
       "   id   type               name\n",
       "0   3  album    Taller Children\n",
       "1  12  album  Wild Young Hearts\n",
       "2  13  album      Lonesome Crow\n",
       "3  17  album      Graffiti Soul\n",
       "4  26  album     Blues Six Pack"
      ]
     },
     "execution_count": 6,
     "metadata": {},
     "output_type": "execute_result"
    }
   ],
   "source": [
    "catalog_names.head()"
   ]
  },
  {
   "cell_type": "code",
   "execution_count": 7,
   "id": "b4937e4b",
   "metadata": {},
   "outputs": [
    {
     "data": {
      "text/html": [
       "<div>\n",
       "<style scoped>\n",
       "    .dataframe tbody tr th:only-of-type {\n",
       "        vertical-align: middle;\n",
       "    }\n",
       "\n",
       "    .dataframe tbody tr th {\n",
       "        vertical-align: top;\n",
       "    }\n",
       "\n",
       "    .dataframe thead th {\n",
       "        text-align: right;\n",
       "    }\n",
       "</style>\n",
       "<table border=\"1\" class=\"dataframe\">\n",
       "  <thead>\n",
       "    <tr style=\"text-align: right;\">\n",
       "      <th></th>\n",
       "      <th>user_id</th>\n",
       "      <th>track_id</th>\n",
       "      <th>track_seq</th>\n",
       "      <th>started_at</th>\n",
       "    </tr>\n",
       "  </thead>\n",
       "  <tbody>\n",
       "    <tr>\n",
       "      <th>0</th>\n",
       "      <td>0</td>\n",
       "      <td>99262</td>\n",
       "      <td>1</td>\n",
       "      <td>2022-07-17</td>\n",
       "    </tr>\n",
       "    <tr>\n",
       "      <th>1</th>\n",
       "      <td>0</td>\n",
       "      <td>589498</td>\n",
       "      <td>2</td>\n",
       "      <td>2022-07-19</td>\n",
       "    </tr>\n",
       "    <tr>\n",
       "      <th>2</th>\n",
       "      <td>0</td>\n",
       "      <td>590262</td>\n",
       "      <td>3</td>\n",
       "      <td>2022-07-21</td>\n",
       "    </tr>\n",
       "    <tr>\n",
       "      <th>3</th>\n",
       "      <td>0</td>\n",
       "      <td>590303</td>\n",
       "      <td>4</td>\n",
       "      <td>2022-07-22</td>\n",
       "    </tr>\n",
       "    <tr>\n",
       "      <th>4</th>\n",
       "      <td>0</td>\n",
       "      <td>590692</td>\n",
       "      <td>5</td>\n",
       "      <td>2022-07-22</td>\n",
       "    </tr>\n",
       "  </tbody>\n",
       "</table>\n",
       "</div>"
      ],
      "text/plain": [
       "   user_id  track_id  track_seq started_at\n",
       "0        0     99262          1 2022-07-17\n",
       "1        0    589498          2 2022-07-19\n",
       "2        0    590262          3 2022-07-21\n",
       "3        0    590303          4 2022-07-22\n",
       "4        0    590692          5 2022-07-22"
      ]
     },
     "execution_count": 7,
     "metadata": {},
     "output_type": "execute_result"
    }
   ],
   "source": [
    "interactions.head()"
   ]
  },
  {
   "cell_type": "markdown",
   "id": "e8f2a1f7-a05f-4f39-af90-5f4018aa6f9d",
   "metadata": {},
   "source": [
    "# Обзор данных"
   ]
  },
  {
   "cell_type": "markdown",
   "id": "46a85307-896c-4fac-9fcf-f0dffa90889e",
   "metadata": {},
   "source": [
    "Проверяем данные, есть ли с ними явные проблемы."
   ]
  },
  {
   "cell_type": "markdown",
   "id": "690ea407",
   "metadata": {},
   "source": [
    "## Количество строк"
   ]
  },
  {
   "cell_type": "code",
   "execution_count": 8,
   "id": "af45291e",
   "metadata": {},
   "outputs": [
    {
     "name": "stdout",
     "output_type": "stream",
     "text": [
      "Кол-во строк в датасете с треками: 1.000000e+06\n"
     ]
    }
   ],
   "source": [
    "print(f\"Кол-во строк в датасете с треками: {len(tracks):e}\")"
   ]
  },
  {
   "cell_type": "code",
   "execution_count": 9,
   "id": "0982b10f",
   "metadata": {},
   "outputs": [
    {
     "name": "stdout",
     "output_type": "stream",
     "text": [
      "Кол-во строк в датасете с каталогом: 1.812471e+06\n"
     ]
    }
   ],
   "source": [
    "print(f\"Кол-во строк в датасете с каталогом: {len(catalog_names):e}\")"
   ]
  },
  {
   "cell_type": "code",
   "execution_count": 10,
   "id": "4573a206",
   "metadata": {},
   "outputs": [
    {
     "name": "stdout",
     "output_type": "stream",
     "text": [
      "Кол-во строк в датасете со взаимодействиями: 2.226299e+08\n"
     ]
    }
   ],
   "source": [
    "print(f\"Кол-во строк в датасете со взаимодействиями: {len(interactions):e}\")"
   ]
  },
  {
   "cell_type": "markdown",
   "id": "60cc9b46",
   "metadata": {},
   "source": [
    "## Типы данныx"
   ]
  },
  {
   "cell_type": "code",
   "execution_count": 11,
   "id": "5badc802",
   "metadata": {},
   "outputs": [
    {
     "data": {
      "text/plain": [
       "track_id     int64\n",
       "albums      object\n",
       "artists     object\n",
       "genres      object\n",
       "dtype: object"
      ]
     },
     "execution_count": 11,
     "metadata": {},
     "output_type": "execute_result"
    }
   ],
   "source": [
    "tracks.dtypes"
   ]
  },
  {
   "cell_type": "code",
   "execution_count": 12,
   "id": "7e9b4289",
   "metadata": {},
   "outputs": [
    {
     "data": {
      "text/plain": [
       "id       int64\n",
       "type    object\n",
       "name    object\n",
       "dtype: object"
      ]
     },
     "execution_count": 12,
     "metadata": {},
     "output_type": "execute_result"
    }
   ],
   "source": [
    "catalog_names.dtypes"
   ]
  },
  {
   "cell_type": "code",
   "execution_count": 13,
   "id": "39a8ffc7",
   "metadata": {},
   "outputs": [
    {
     "data": {
      "text/plain": [
       "user_id                int32\n",
       "track_id               int32\n",
       "track_seq              int16\n",
       "started_at    datetime64[ns]\n",
       "dtype: object"
      ]
     },
     "execution_count": 13,
     "metadata": {},
     "output_type": "execute_result"
    }
   ],
   "source": [
    "interactions.dtypes"
   ]
  },
  {
   "cell_type": "markdown",
   "id": "d93c64e5",
   "metadata": {},
   "source": [
    "## Пропущенные значения"
   ]
  },
  {
   "cell_type": "code",
   "execution_count": 14,
   "id": "c9f8f17e-9b56-4f5a-a463-f694a993effb",
   "metadata": {},
   "outputs": [
    {
     "data": {
      "text/plain": [
       "track_id    0\n",
       "albums      0\n",
       "artists     0\n",
       "genres      0\n",
       "dtype: int64"
      ]
     },
     "execution_count": 14,
     "metadata": {},
     "output_type": "execute_result"
    }
   ],
   "source": [
    "tracks.isna().sum()"
   ]
  },
  {
   "cell_type": "code",
   "execution_count": 15,
   "id": "efd2e2eb-3bec-4ce1-87ac-232bab8bc0d0",
   "metadata": {},
   "outputs": [
    {
     "data": {
      "text/plain": [
       "id      0\n",
       "type    0\n",
       "name    0\n",
       "dtype: int64"
      ]
     },
     "execution_count": 15,
     "metadata": {},
     "output_type": "execute_result"
    }
   ],
   "source": [
    "catalog_names.isna().sum()"
   ]
  },
  {
   "cell_type": "code",
   "execution_count": 16,
   "id": "80ac45cf",
   "metadata": {},
   "outputs": [
    {
     "data": {
      "text/plain": [
       "user_id       0\n",
       "track_id      0\n",
       "track_seq     0\n",
       "started_at    0\n",
       "dtype: int64"
      ]
     },
     "execution_count": 16,
     "metadata": {},
     "output_type": "execute_result"
    }
   ],
   "source": [
    "interactions.isna().sum()"
   ]
  },
  {
   "cell_type": "markdown",
   "id": "0bf4d03a",
   "metadata": {},
   "source": [
    "## Пустые списки и пустые строки"
   ]
  },
  {
   "cell_type": "markdown",
   "id": "f422c4c6",
   "metadata": {},
   "source": [
    "Пустые списки исполнителей, альбомов и жанров"
   ]
  },
  {
   "cell_type": "code",
   "execution_count": 17,
   "id": "99b5c9ac",
   "metadata": {},
   "outputs": [
    {
     "name": "stdout",
     "output_type": "stream",
     "text": [
      "\n",
      "Пустые списки альбомов: 0.0018%\n",
      "Пустые списки исполнителей: 1.5%\n",
      "Пустые списки жанров: 0.37%\n",
      "Общее количество пустых ячеек в треках: 1.9%\n",
      "Трэки, у которых что-то из вышеперечисленного пустое: 1.9%\n",
      "Пустые имена в каталоге: 0\n",
      "Пустые жанры в каталоге: 0\n",
      "\n"
     ]
    }
   ],
   "source": [
    "empty_albums = tracks.albums.str.len() == 0\n",
    "empty_artists = tracks.artists.str.len() == 0\n",
    "empty_tracks = tracks.genres.str.len() == 0\n",
    "empty_name = catalog_names.name.str.len() == 0\n",
    "empty_type = catalog_names.type.str.len() == 0\n",
    "print(\n",
    "f\"\"\"\n",
    "Пустые списки альбомов: {empty_albums.sum() / len(empty_albums) * 100.:.2}%\n",
    "Пустые списки исполнителей: {empty_artists.sum() / len(empty_artists) * 100.:.2}%\n",
    "Пустые списки жанров: {empty_tracks.sum() / len(empty_tracks) * 100.:.2}%\n",
    "Общее количество пустых ячеек в треках: {(empty_albums + empty_artists + empty_tracks).sum() / len(empty_tracks) * 100.:.2}%\n",
    "Трэки, у которых что-то из вышеперечисленного пустое: {(empty_albums | empty_tracks | empty_artists).sum() / len(empty_tracks) * 100.:.2}%\n",
    "Пустые имена в каталоге: {empty_name.sum()}\n",
    "Пустые жанры в каталоге: {empty_type.sum()}\n",
    "\"\"\")"
   ]
  },
  {
   "cell_type": "markdown",
   "id": "bbd7b238",
   "metadata": {},
   "source": [
    "## Повторяющиеся значения"
   ]
  },
  {
   "cell_type": "code",
   "execution_count": 18,
   "id": "b9bf837a",
   "metadata": {},
   "outputs": [
    {
     "name": "stdout",
     "output_type": "stream",
     "text": [
      "\n",
      "Повторяющиеся строки в треках: 0\n",
      "Повторяющиеся строки в каталоге: 0\n",
      "\n"
     ]
    }
   ],
   "source": [
    "duplicated_tracks = tracks.explode(\"albums\").explode(\"artists\").explode(\"genres\").duplicated().sum()\n",
    "duplicated_catalog_names = catalog_names.duplicated().sum()\n",
    "print(\n",
    "f\"\"\"\n",
    "Повторяющиеся строки в треках: {duplicated_tracks}\n",
    "Повторяющиеся строки в каталоге: {duplicated_catalog_names}\n",
    "\"\"\")"
   ]
  },
  {
   "cell_type": "code",
   "execution_count": 19,
   "id": "0ca9973c",
   "metadata": {},
   "outputs": [
    {
     "name": "stdout",
     "output_type": "stream",
     "text": [
      "Повторяющиеся строки во взаимодействиях: 0\n"
     ]
    }
   ],
   "source": [
    "print(f\"Повторяющиеся строки во взаимодействиях: {interactions.duplicated().sum()}\")"
   ]
  },
  {
   "cell_type": "markdown",
   "id": "cd9e8a46",
   "metadata": {},
   "source": [
    "## Проверка гипотез относительно пользовательской оценки\n",
    "1. каждая строка в таблице `interactions` - это одно взаимодействие пользователя с треком, тогда у некоторых пользователей один и тот же трек может присутствовать несколько раз с разными значениями `started_at`\n",
    "2. в `interactions` все треки одного пользователя уникальны, при этом `started_at` это момент начала первого (или последнего) прослушивания трека, а `track_seq` - это порядковый номер `started_at` (ранг) отсортированном списке\n",
    "3. что-то другое..."
   ]
  },
  {
   "cell_type": "code",
   "execution_count": 20,
   "id": "259dd0c1",
   "metadata": {},
   "outputs": [
    {
     "name": "stdout",
     "output_type": "stream",
     "text": [
      "Количество дублирующихся треков в треклистах:\n",
      "track_seq     0\n",
      "started_at    0\n",
      "dtype: int64\n"
     ]
    }
   ],
   "source": [
    "print(\n",
    "    \"Количество дублирующихся треков в треклистах:\",\n",
    "    (interactions.groupby(['user_id', 'track_id']).count() > 1).sum(),\n",
    "    sep='\\n')"
   ]
  },
  {
   "cell_type": "code",
   "execution_count": 21,
   "id": "85111e7b",
   "metadata": {},
   "outputs": [
    {
     "name": "stdout",
     "output_type": "stream",
     "text": [
      "Число строк для которых ранг started_at не совпадает с track_seq: 0\n"
     ]
    }
   ],
   "source": [
    "print(\n",
    "    \"Число строк для которых ранг started_at не совпадает с track_seq:\",\n",
    "    (interactions[[\"user_id\", \"started_at\"]].groupby(\"user_id\").rank(method=\"first\")[\"started_at\"] != interactions[\"track_seq\"]).sum())"
   ]
  },
  {
   "cell_type": "markdown",
   "id": "318b573a-9e2d-4808-95db-60cfb8bbdb73",
   "metadata": {
    "editable": true,
    "slideshow": {
     "slide_type": ""
    },
    "tags": []
   },
   "source": [
    "# Выводы"
   ]
  },
  {
   "cell_type": "markdown",
   "id": "caa96e12-36a8-4401-8f11-98627a49ae9d",
   "metadata": {},
   "source": [
    "Приведём выводы по первому знакомству с данными:\n",
    "- есть ли с данными явные проблемы,\n",
    "- какие корректирующие действия (в целом) были предприняты.\n",
    "\n",
    "**Проблемы с данными:**\n",
    " - данные в таблице `interactions` имеют очень большой объем, для работы нужно много оперативки\n",
    " - для 0.0018% треков отсутствуют списки альбомов\n",
    " - для 1.5% треков отсутствуют списки исполнителей\n",
    " - для 0.37% треков отсутствуют списки жанров\n",
    " - отсутствуют в явном виде пользовательские оценки\n",
    "    - `track_seq` - просто ранг значений `started_at` для треков одного `user_id`\n",
    "    - треки у одного `user_id` уникальны, поэтому относительно сущности `started_at` могут быть справедливы, как минимум, две гипотезы\n",
    "        - `started_at` - время последнего начала прослушивания трека, которое перетерло все предыдущие (в этом случае деление по времени на тестовую и тренировочную выборки будет совершенно не возможным)\n",
    "        - `started_at` - время первого взаимодействия пользователя с треком. При этом совершенно неизвестно: запускал ли вообще пользователь трек во второй, третий и тд разы\n",
    "    \n",
    "    Поскольку в задаче требуется отделить тестовую выборку по определенному моменту времени, мы будем считать рабочей вторую гипотезу - других оснований я не вижу\n",
    " - индексы в таблице `catalog_names` не уникальны, есть дубликаты: индексы альбомов, исполнителей и жанров образуют пересекающиеся множества\n",
    "\n",
    " **Корректирующие действия:**\n",
    " - понял, что слежу за оперативкой, по возможности дропая все ненужное\n",
    " - до конца не ясно, является ли отсутствие альбомов, исполнителей и жанров проблемой, решил оставить как есть\n",
    " - `track_seq` - можно смело удалить из таблицы, чтобы соптимизировать хранение, так как никакой новой информации, кроме возможности упорядочить треки, прослушанные в один день он не несет\n",
    " - вероятно, в качестве оценки нужно использовать величину `started_at`. Предположим, что треки, прослушанные в первый раз более полугода назад, начинают забываться, при этом процесс забвения имеет вид убывающей экспоненты, где период полураспада - полгода. Тогда оценки будем вычислять так:$$rating = {1 \\over 2}^{{max(started\\_at) - started\\_at} \\over {half\\_year}}$$\n",
    " - при работе с `catalog_names` необходимо дополнительно фильтровать по типу, чтобы не вытащить, например, альбом вместо жанра\n",
    " - при построении матрицы взаимодействий нужно перекодировать все индексы, так как в последовательностях индексов могут быть пропуски"
   ]
  },
  {
   "cell_type": "markdown",
   "id": "7bc3296b-eba6-4333-a78d-b9304aa87e3d",
   "metadata": {},
   "source": [
    "# === ЭТАП 2 ==="
   ]
  },
  {
   "cell_type": "markdown",
   "id": "68e73960-fd38-4e15-8db0-9a25c35dfd25",
   "metadata": {},
   "source": [
    "# EDA"
   ]
  },
  {
   "cell_type": "markdown",
   "id": "a30e823e-8e0f-4a76-a02e-8d1ba8bf0f8a",
   "metadata": {},
   "source": [
    "Распределение количества прослушанных треков."
   ]
  },
  {
   "cell_type": "code",
   "execution_count": 22,
   "id": "9bf5eaba-35f7-4da7-be59-9ab4a34b2423",
   "metadata": {},
   "outputs": [
    {
     "name": "stderr",
     "output_type": "stream",
     "text": [
      "/tmp/ipykernel_13947/3878380463.py:2: SettingWithCopyWarning: \n",
      "A value is trying to be set on a copy of a slice from a DataFrame.\n",
      "Try using .loc[row_indexer,col_indexer] = value instead\n",
      "\n",
      "See the caveats in the documentation: https://pandas.pydata.org/pandas-docs/stable/user_guide/indexing.html#returning-a-view-versus-a-copy\n",
      "  tracks_per_mounth[\"month\"] = interactions[\"started_at\"].dt.to_period('M')\n"
     ]
    },
    {
     "data": {
      "image/png": "[encoded data removed]",
      "text/plain": [
       "<Figure size 640x480 with 1 Axes>"
      ]
     },
     "metadata": {},
     "output_type": "display_data"
    }
   ],
   "source": [
    "tracks_per_mounth = interactions[[\"track_id\", \"started_at\"]]\n",
    "tracks_per_mounth[\"month\"] = interactions[\"started_at\"].dt.to_period('M')\n",
    "tracks_per_mounth = tracks_per_mounth[[\"month\", \"track_id\"]].groupby(\"month\").count().rename(columns={\"track_id\": \"month\"})\n",
    "tracks_per_mounth.plot.bar()\n",
    "plt.xticks(rotation=45)\n",
    "plt.title(\"Распределение прослушанных треков по месяцам\")\n",
    "plt.grid(which=\"both\")\n",
    "del tracks_per_mounth"
   ]
  },
  {
   "cell_type": "markdown",
   "id": "d765519a-18dd-4d30-9e29-cc2d84cacd79",
   "metadata": {},
   "source": [
    "Наиболее популярные треки"
   ]
  },
  {
   "cell_type": "code",
   "execution_count": 23,
   "id": "aecaf630-fde0-4860-b84a-42c933a9606e",
   "metadata": {},
   "outputs": [
    {
     "data": {
      "image/png": "[encoded data removed]",
      "text/plain": [
       "<Figure size 640x480 with 1 Axes>"
      ]
     },
     "metadata": {},
     "output_type": "display_data"
    }
   ],
   "source": [
    "interactions[[\"track_id\", \"user_id\"]]\\\n",
    "    .groupby(\"track_id\")\\\n",
    "    .count()\\\n",
    "    .rename(columns={\"user_id\": \"popularity\"})\\\n",
    "    .merge(catalog_names[catalog_names[\"type\"] == \"track\"][[\"id\", \"name\"]], left_on=\"track_id\", right_on=\"id\")\\\n",
    "    [[\"name\", \"popularity\"]].nlargest(columns=[\"popularity\"], n=20)\\\n",
    "        .sort_values(by=\"popularity\").plot.barh(x=\"name\", y=\"popularity\")\n",
    "plt.title(\"20 наиболее популярных треков\")\n",
    "plt.grid()"
   ]
  },
  {
   "cell_type": "markdown",
   "id": "b1c32a5a-d3be-4f96-8dd9-f7860951020c",
   "metadata": {},
   "source": [
    "Наиболее популярные жанры"
   ]
  },
  {
   "cell_type": "code",
   "execution_count": 24,
   "id": "1bc50491-9235-4d3c-a6c2-297f7c05a959",
   "metadata": {},
   "outputs": [
    {
     "data": {
      "image/png": "[encoded data removed]",
      "text/plain": [
       "<Figure size 640x480 with 1 Axes>"
      ]
     },
     "metadata": {},
     "output_type": "display_data"
    }
   ],
   "source": [
    "genres_popularity = interactions[[\"track_id\", \"user_id\"]]\\\n",
    "    .groupby(\"track_id\")\\\n",
    "    .count()\\\n",
    "    .merge(tracks[[\"track_id\", \"genres\"]], on=\"track_id\")\\\n",
    "    .rename(columns={\"user_id\": \"track_popularity\"})\n",
    "genres_popularity[\"weight\"] = genres_popularity.genres.str.len()\n",
    "\n",
    "genres_popularity = genres_popularity\\\n",
    "    .explode(\"genres\")\\\n",
    "    .rename(columns={\"genres\": \"genre_id\"})\n",
    "\n",
    "genres_popularity[\"genre_id\"] = genres_popularity[\"genre_id\"].astype(\"Int64\")\n",
    "genres_popularity = genres_popularity.merge(catalog_names[catalog_names[\"type\"] == \"genre\"], left_on=\"genre_id\", right_on=\"id\", how=\"left\")\n",
    "genres_popularity[\"popularity\"] = genres_popularity[\"track_popularity\"] / genres_popularity[\"weight\"]\n",
    "genres_popularity = genres_popularity[[\"name\", \"popularity\"]].groupby(\"name\").sum().nlargest(columns=[\"popularity\"], n=20).sort_values(by=\"popularity\")\n",
    "genres_popularity.plot.barh(y=\"popularity\")\n",
    "plt.title(\"20 наиболее популярных жанров\")\n",
    "plt.grid()\n",
    "del genres_popularity"
   ]
  },
  {
   "cell_type": "markdown",
   "id": "15254e66-e80e-473b-ba24-abebea5ccac7",
   "metadata": {},
   "source": [
    "Треки, которые никто не прослушал"
   ]
  },
  {
   "cell_type": "code",
   "execution_count": 25,
   "id": "fc3e47d8",
   "metadata": {},
   "outputs": [
    {
     "name": "stdout",
     "output_type": "stream",
     "text": [
      "Количество непрослушанных треков: 0\n"
     ]
    }
   ],
   "source": [
    "print(\n",
    "    f\"Количество непрослушанных треков:\",\n",
    "    (~tracks[\"track_id\"].isin(interactions.track_id)).sum())"
   ]
  },
  {
   "cell_type": "markdown",
   "id": "0d850a07-ef1e-462f-891a-1cf89f2e24ef",
   "metadata": {},
   "source": [
    "# Преобразование данных"
   ]
  },
  {
   "cell_type": "markdown",
   "id": "fabcf8d2-1192-4df5-b20b-fbb84689f57a",
   "metadata": {},
   "source": [
    "Преобразуем данные в формат, более пригодный для дальнейшего использования в расчётах рекомендаций.\n",
    "\n",
    "В качестве максимального времени просто возьмем дату по которой в задании спринта предлагается делить тренировочную и тестовую выборки `16 декабря 2022 года (не включительно)`"
   ]
  },
  {
   "cell_type": "code",
   "execution_count": 27,
   "id": "e2a0667c",
   "metadata": {},
   "outputs": [],
   "source": [
    "events = interactions[[\"user_id\", \"track_id\", \"started_at\"]]\n",
    "max_time = pd.to_datetime(\"16-12-2022\", format=\"%d-%m-%Y\")\n",
    "half_year_days = 365. / 2.\n",
    "\n",
    "events[\"rating\"] = 1 / np.power(2, (max_time - interactions.started_at).dt.days / half_year_days)\n",
    "events[\"rating\"] = (events.rating / events.rating.max() * 255).astype(np.uint8)\n",
    "items = tracks[[\"track_id\", \"genres\"]]\\\n",
    "    .explode(\"genres\")\\\n",
    "    .merge(catalog_names[catalog_names[\"type\"] == \"genre\"], left_on=\"genres\", right_on=\"id\", how=\"left\")\\\n",
    "    .rename(columns={\"genres\": \"genre_id\", \"name\": \"genre\"}).drop(columns=[\"id\", \"type\"])\n",
    "unknown_id = items[\"genre_id\"].max() + 1\n",
    "items.loc[items[\"genre\"].isna(), \"genre_id\"] = unknown_id\n",
    "items.loc[items[\"genre\"].isna(), \"genre\"] = \"unknown\"\n",
    "items.track_id = items.track_id.astype(np.uint32)\n",
    "items.genre_id = items.genre_id.astype(np.uint16)\n",
    "items = items.rename(columns={\"track_id\": \"item_id\"})\n"
   ]
  },
  {
   "cell_type": "code",
   "execution_count": 28,
   "id": "99b67b45",
   "metadata": {},
   "outputs": [
    {
     "data": {
      "text/plain": [
       "user_id                int32\n",
       "track_id               int32\n",
       "started_at    datetime64[ns]\n",
       "rating                 uint8\n",
       "dtype: object"
      ]
     },
     "execution_count": 28,
     "metadata": {},
     "output_type": "execute_result"
    }
   ],
   "source": [
    "events.dtypes"
   ]
  },
  {
   "cell_type": "code",
   "execution_count": 29,
   "id": "d657e1c0",
   "metadata": {},
   "outputs": [
    {
     "data": {
      "text/plain": [
       "item_id     uint32\n",
       "genre_id    uint16\n",
       "genre       object\n",
       "dtype: object"
      ]
     },
     "execution_count": 29,
     "metadata": {},
     "output_type": "execute_result"
    }
   ],
   "source": [
    "items.dtypes"
   ]
  },
  {
   "cell_type": "markdown",
   "id": "4d1be653-eed8-4fa0-a9c5-3811b080d71d",
   "metadata": {},
   "source": [
    "# Сохранение данных"
   ]
  },
  {
   "cell_type": "markdown",
   "id": "36f1314a-3af3-4faf-a0b1-3045173d1500",
   "metadata": {},
   "source": [
    "Сохраним данные в двух файлах в персональном S3-бакете по пути `recsys/data/`:\n",
    "- `items.parquet` — все данные о музыкальных треках,\n",
    "- `events.parquet` — все данные о взаимодействиях.\n",
    "\n",
    "Будем использовать `dvc` для версионирования данных.\n",
    "\n",
    "`.dvc/config`:\n",
    "````(toml)\n",
    "[core]\n",
    "    remote = my_storage\n",
    "['remote \"my_storage\"']\n",
    "    url = s3://s3-student-mle-20240919-daec520330/recsys\n",
    "    endpointurl = https://storage.yandexcloud.net\n",
    "````\n",
    "\n",
    "`config.local`:\n",
    "````(toml)\n",
    "['remote \"my_storage\"']\n",
    "    access_key_id = <your-access-key-id>\n",
    "    secret_access_key = <your-secret-access-key>\n",
    "````\n"
   ]
  },
  {
   "cell_type": "code",
   "execution_count": 30,
   "id": "9f77af17-7705-4fae-9aad-db579b39faad",
   "metadata": {},
   "outputs": [],
   "source": [
    "items.to_parquet(output_data_path / \"items.parquet\")\n",
    "events.to_parquet(output_data_path / \"events.parquet\")"
   ]
  },
  {
   "cell_type": "code",
   "execution_count": 31,
   "id": "160aa77d",
   "metadata": {},
   "outputs": [
    {
     "name": "stdout",
     "output_type": "stream",
     "text": [
      "\u001b[?25l\u001b[32m⠋\u001b[0m Checking graph                                       core\u001b[39m>\n",
      "Adding...                                                                       \n",
      "!\u001b[A\n",
      "Collecting files and computing hashes in data         |0.00 [00:00,     ?file/s]\u001b[A\n",
      "Collecting files and computing hashes in data         |2.00 [00:02,  1.16s/file]\u001b[A\n",
      "                                                                                \u001b[A\n",
      "!\u001b[A\n",
      "  0% Checking cache in '/home/mle-user/mle_projects/mle-project-sprint-4-v001/.d\u001b[A\n",
      "                                                                                \u001b[A\n",
      "!\u001b[A\n",
      "  0%|          |Adding data to cache                  0/1 [00:00<?,     ?file/s]\u001b[A\n",
      "                                                                                \u001b[A\n",
      "!\u001b[A\n",
      "Checking out /home/mle-user/mle_projects/mle-project-sprint-4-v001/data |0.00 [0\u001b[A\n",
      "100% Adding...|████████████████████████████████████████|1/1 [00:02,  2.39s/file]\u001b[A\n",
      "\n",
      "To track the changes with git, run:\n",
      "\n",
      "\tgit add data.dvc\n",
      "\n",
      "To enable auto staging, run:\n",
      "\n",
      "\tdvc config core.autostage true\n",
      "Collecting                                            |3.00 [00:00,  113entry/s]\n",
      "Pushing\n",
      "!\u001b[A\n",
      "  0% Querying remote cache|                          |0/1 [00:00<?,    ?files/s]\u001b[A\n",
      "100% Querying remote cache|█████████████████████|1/1 [00:00<00:00,  2.37files/s]\u001b[A\n",
      "                                                                                \u001b[A\n",
      "!\u001b[A\n",
      "  0% Querying remote cache|                          |0/1 [00:00<?,    ?files/s]\u001b[A\n",
      "                                                                                \u001b[A\n",
      "!\u001b[A\n",
      "  0% Checking cache in 's3-student-mle-20240919-daec520330/recsys/files/md5'| |0\u001b[A\n",
      "                                                                                \u001b[A\n",
      "!\u001b[A\n",
      "  0% Checking cache in '/home/mle-user/mle_projects/mle-project-sprint-4-v001/.d\u001b[A\n",
      "                                                                                \u001b[A\n",
      "!\u001b[A\n",
      "  0%|          |Pushing to s3                         0/2 [00:00<?,     ?file/s]\u001b[A\n",
      "\n",
      "!\u001b[A\u001b[A\n",
      "\n",
      "  0%|          |/home/mle-user/mle_projects/mle0.00/8.46M [00:00<?,        ?B/s]\u001b[A\u001b[A\n",
      "\n",
      "100%|██████████|/home/mle-user/mle_project8.46M/8.46M [00:00<00:00,    39.6MB/s]\u001b[A\u001b[A\n",
      "\n",
      "                                                                                \u001b[A\u001b[A\n",
      "100%|██████████|Pushing to s3                     1/1 [00:00<00:00,  3.65file/s]\u001b[A\n",
      "\n",
      "!\u001b[A\u001b[A\n",
      "\n",
      "  0%|          |/home/mle-user/mle_projects/mle-p0.00/147 [00:00<?,        ?B/s]\u001b[A\u001b[A\n",
      "\n",
      "                                                                                \u001b[A\u001b[A\n",
      "Pushing                                                                         \u001b[A\n",
      "2 files pushed\n",
      "\u001b[0m"
     ]
    }
   ],
   "source": [
    "!dvc add data && dvc push data"
   ]
  },
  {
   "cell_type": "markdown",
   "id": "72ecbbed-c560-44d9-9c14-86c7dc76f399",
   "metadata": {},
   "source": [
    "# Очистка памяти"
   ]
  },
  {
   "cell_type": "markdown",
   "id": "b5358ede-ba6e-4c4f-bd73-5b9344f0ba79",
   "metadata": {},
   "source": [
    "Здесь, может понадобится очистка памяти для высвобождения ресурсов для выполнения кода ниже. \n",
    "\n",
    "Приведите соответствующие код, комментарии, например:\n",
    "- код для удаление более ненужных переменных,\n",
    "- комментарий, что следует перезапустить kernel, выполнить такие-то начальные секции и продолжить с этапа 3."
   ]
  },
  {
   "cell_type": "code",
   "execution_count": null,
   "id": "767fe920-e12e-4ad8-b04e-56e8091fac9f",
   "metadata": {},
   "outputs": [],
   "source": [
    "# Удалим все присутствующие в памяти датафреймы\n",
    "del empty_albums,\\\n",
    "    empty_artists,\\\n",
    "    empty_name,\\\n",
    "    empty_tracks,\\\n",
    "    empty_type,\\\n",
    "    events,\\\n",
    "    items, \\\n",
    "    interactions, \\\n",
    "    catalog_names, \\\n",
    "    tracks\n",
    "\n",
    "# Запустим сборщик мусора\n",
    "_ = gc.collect()\n",
    "\n",
    "# Тут можно перезапустить ядро, но можно и не перезапускать\n",
    "# Если ядро было перезапущенно, то нужно:\n",
    "#   1. заново импортировать библиотеки (ячейка 1)\n",
    "#   2. заново пересоздать директории с данными (ячейка 3)"
   ]
  },
  {
   "cell_type": "markdown",
   "id": "708503df-ee89-4cf3-8489-093dc478e2a8",
   "metadata": {},
   "source": [
    "# === ЭТАП 3 ==="
   ]
  },
  {
   "cell_type": "markdown",
   "id": "fd77de22-e10f-4b42-85c1-8fb6f805fe68",
   "metadata": {},
   "source": [
    "# Загрузка данных"
   ]
  },
  {
   "cell_type": "markdown",
   "id": "780a4241-1ecd-4a3e-bbb3-fc2f6ca94f68",
   "metadata": {},
   "source": [
    "Если необходимо, то загружаем items.parquet, events.parquet."
   ]
  },
  {
   "cell_type": "code",
   "execution_count": 41,
   "id": "f19fc8a5-bd2c-40d7-864a-ee75aca6d512",
   "metadata": {},
   "outputs": [
    {
     "name": "stdout",
     "output_type": "stream",
     "text": [
      "Чтобы принудительно загрузить данные снова нужно удалить файлы из директории data\n"
     ]
    }
   ],
   "source": [
    "%%bash\n",
    "DATA_DIR=data\n",
    "if [ -f $DATA_DIR/items.parquet ] && [ -f $DATA_DIR/events.parquet ]; then\n",
    "echo \"Чтобы принудительно загрузить данные снова нужно удалить файлы из директории ${DATA_DIR}\"\n",
    "else\n",
    "echo \"Загрузка ...\"\n",
    "dvc pull data.dvc\n",
    "fi"
   ]
  },
  {
   "cell_type": "code",
   "execution_count": 5,
   "id": "5db1e801-5845-4ce3-86f2-c2fa30f68cc5",
   "metadata": {},
   "outputs": [],
   "source": [
    "SPLIT_TIME = pd.to_datetime(\"16-12-2022\", format=\"%d-%m-%Y\")\n",
    "items = pd.read_parquet(output_data_path / \"items.parquet\")\n",
    "events = pd.read_parquet(output_data_path / \"events.parquet\")"
   ]
  },
  {
   "cell_type": "markdown",
   "id": "a694c023-6477-490b-939d-1cfa6f5f1b72",
   "metadata": {},
   "source": [
    "# Разбиение данных"
   ]
  },
  {
   "cell_type": "markdown",
   "id": "fbd5f6e0-54e7-4428-8678-eabce505d82c",
   "metadata": {},
   "source": [
    "Разбиваем данные на тренировочную, тестовую выборки."
   ]
  },
  {
   "cell_type": "code",
   "execution_count": null,
   "id": "00c2dfa5-d8a2-47d1-922e-6eefee2c62d1",
   "metadata": {},
   "outputs": [
    {
     "name": "stdout",
     "output_type": "stream",
     "text": [
      "Кол-во событий в тренировочной выборке: 2.087313e+08\n",
      "Кол-во событий в тестовой выборке: 1.389865e+07\n"
     ]
    }
   ],
   "source": [
    "events_train = events[events[\"started_at\"] < SPLIT_TIME][[\"user_id\", \"track_id\", \"rating\"]]\n",
    "events_test = events[events[\"started_at\"] >= SPLIT_TIME][[\"user_id\", \"track_id\"]]\n",
    "del events\n",
    "print(\n",
    "    f\"Кол-во событий в тренировочной выборке: {len(events_train):e}\",\n",
    "    f\"Кол-во событий в тестовой выборке: {len(events_test):e}\",\n",
    "    sep=\"\\n\",\n",
    ")"
   ]
  },
  {
   "cell_type": "code",
   "execution_count": 12,
   "id": "4a134997",
   "metadata": {},
   "outputs": [
    {
     "name": "stdout",
     "output_type": "stream",
     "text": [
      "Кол-во пользователей в тренировочной выборке: 1.342566e+06\n",
      "Кол-во пользователей в тестовой выборке: 7.835250e+05\n",
      "Кол-во пользователей, которые есть в обеих выборках: 7.528700e+05\n",
      "Кол-во холодных пользователей: 3.065500e+04\n"
     ]
    }
   ],
   "source": [
    "users_train = events_train[\"user_id\"].drop_duplicates()\n",
    "users_test = events_test[\"user_id\"].drop_duplicates()\n",
    "\n",
    "common_users = users_train[users_train.isin(users_test)]\n",
    "cold_users = users_test[~users_test.isin(users_train)]\n",
    "\n",
    "print(\n",
    "    f\"Кол-во пользователей в тренировочной выборке: {len(users_train):e}\",\n",
    "    f\"Кол-во пользователей в тестовой выборке: {len(users_test):e}\",\n",
    "    f\"Кол-во пользователей, которые есть в обеих выборках: {len(common_users):e}\",\n",
    "    f\"Кол-во холодных пользователей: {len(cold_users):e}\",\n",
    "    sep=\"\\n\",\n",
    ")"
   ]
  },
  {
   "cell_type": "markdown",
   "id": "9131c7e6-8852-4556-b510-51f7253cc299",
   "metadata": {},
   "source": [
    "# Топ популярных"
   ]
  },
  {
   "cell_type": "markdown",
   "id": "dd70d43a-88cc-4719-b291-feaed7136f30",
   "metadata": {},
   "source": [
    "Рассчитаем рекомендации как топ 10 популярных."
   ]
  },
  {
   "cell_type": "code",
   "execution_count": 14,
   "id": "ee45e200-b7d6-4f56-9077-aad431689b96",
   "metadata": {},
   "outputs": [
    {
     "ename": "KeyError",
     "evalue": "'item_id'",
     "output_type": "error",
     "traceback": [
      "\u001b[0;31m---------------------------------------------------------------------------\u001b[0m",
      "\u001b[0;31mKeyError\u001b[0m                                  Traceback (most recent call last)",
      "Cell \u001b[0;32mIn[14], line 1\u001b[0m\n\u001b[0;32m----> 1\u001b[0m item_popularity \u001b[38;5;241m=\u001b[39m \u001b[43mevents_train\u001b[49m\u001b[38;5;241;43m.\u001b[39;49m\u001b[43mgroupby\u001b[49m\u001b[43m(\u001b[49m\u001b[38;5;124;43m\"\u001b[39;49m\u001b[38;5;124;43mitem_id\u001b[39;49m\u001b[38;5;124;43m\"\u001b[39;49m\u001b[43m)\u001b[49m\\\n\u001b[1;32m      2\u001b[0m     \u001b[38;5;241m.\u001b[39magg(users\u001b[38;5;241m=\u001b[39m(\u001b[38;5;124m\"\u001b[39m\u001b[38;5;124muser_id\u001b[39m\u001b[38;5;124m\"\u001b[39m, \u001b[38;5;124m\"\u001b[39m\u001b[38;5;124mnunique\u001b[39m\u001b[38;5;124m\"\u001b[39m), avg_rating\u001b[38;5;241m=\u001b[39m(\u001b[38;5;124m\"\u001b[39m\u001b[38;5;124mrating\u001b[39m\u001b[38;5;124m\"\u001b[39m, \u001b[38;5;124m\"\u001b[39m\u001b[38;5;124mmean\u001b[39m\u001b[38;5;124m\"\u001b[39m))\\\n\u001b[1;32m      3\u001b[0m     \u001b[38;5;241m.\u001b[39mreset_index()\n\u001b[1;32m      5\u001b[0m \u001b[38;5;66;03m# нормализация пользователей и среднего рейтинга, требуется для их приведения к одному масштабу\u001b[39;00m\n\u001b[1;32m      6\u001b[0m scaler \u001b[38;5;241m=\u001b[39m MinMaxScaler()\n",
      "File \u001b[0;32m~/mle_projects/mle-project-sprint-4-v001/.venv/lib/python3.10/site-packages/pandas/core/frame.py:8872\u001b[0m, in \u001b[0;36mDataFrame.groupby\u001b[0;34m(self, by, axis, level, as_index, sort, group_keys, observed, dropna)\u001b[0m\n\u001b[1;32m   8869\u001b[0m \u001b[38;5;28;01mif\u001b[39;00m level \u001b[38;5;129;01mis\u001b[39;00m \u001b[38;5;28;01mNone\u001b[39;00m \u001b[38;5;129;01mand\u001b[39;00m by \u001b[38;5;129;01mis\u001b[39;00m \u001b[38;5;28;01mNone\u001b[39;00m:\n\u001b[1;32m   8870\u001b[0m     \u001b[38;5;28;01mraise\u001b[39;00m \u001b[38;5;167;01mTypeError\u001b[39;00m(\u001b[38;5;124m\"\u001b[39m\u001b[38;5;124mYou have to supply one of \u001b[39m\u001b[38;5;124m'\u001b[39m\u001b[38;5;124mby\u001b[39m\u001b[38;5;124m'\u001b[39m\u001b[38;5;124m and \u001b[39m\u001b[38;5;124m'\u001b[39m\u001b[38;5;124mlevel\u001b[39m\u001b[38;5;124m'\u001b[39m\u001b[38;5;124m\"\u001b[39m)\n\u001b[0;32m-> 8872\u001b[0m \u001b[38;5;28;01mreturn\u001b[39;00m \u001b[43mDataFrameGroupBy\u001b[49m\u001b[43m(\u001b[49m\n\u001b[1;32m   8873\u001b[0m \u001b[43m    \u001b[49m\u001b[43mobj\u001b[49m\u001b[38;5;241;43m=\u001b[39;49m\u001b[38;5;28;43mself\u001b[39;49m\u001b[43m,\u001b[49m\n\u001b[1;32m   8874\u001b[0m \u001b[43m    \u001b[49m\u001b[43mkeys\u001b[49m\u001b[38;5;241;43m=\u001b[39;49m\u001b[43mby\u001b[49m\u001b[43m,\u001b[49m\n\u001b[1;32m   8875\u001b[0m \u001b[43m    \u001b[49m\u001b[43maxis\u001b[49m\u001b[38;5;241;43m=\u001b[39;49m\u001b[43maxis\u001b[49m\u001b[43m,\u001b[49m\n\u001b[1;32m   8876\u001b[0m \u001b[43m    \u001b[49m\u001b[43mlevel\u001b[49m\u001b[38;5;241;43m=\u001b[39;49m\u001b[43mlevel\u001b[49m\u001b[43m,\u001b[49m\n\u001b[1;32m   8877\u001b[0m \u001b[43m    \u001b[49m\u001b[43mas_index\u001b[49m\u001b[38;5;241;43m=\u001b[39;49m\u001b[43mas_index\u001b[49m\u001b[43m,\u001b[49m\n\u001b[1;32m   8878\u001b[0m \u001b[43m    \u001b[49m\u001b[43msort\u001b[49m\u001b[38;5;241;43m=\u001b[39;49m\u001b[43msort\u001b[49m\u001b[43m,\u001b[49m\n\u001b[1;32m   8879\u001b[0m \u001b[43m    \u001b[49m\u001b[43mgroup_keys\u001b[49m\u001b[38;5;241;43m=\u001b[39;49m\u001b[43mgroup_keys\u001b[49m\u001b[43m,\u001b[49m\n\u001b[1;32m   8880\u001b[0m \u001b[43m    \u001b[49m\u001b[43mobserved\u001b[49m\u001b[38;5;241;43m=\u001b[39;49m\u001b[43mobserved\u001b[49m\u001b[43m,\u001b[49m\n\u001b[1;32m   8881\u001b[0m \u001b[43m    \u001b[49m\u001b[43mdropna\u001b[49m\u001b[38;5;241;43m=\u001b[39;49m\u001b[43mdropna\u001b[49m\u001b[43m,\u001b[49m\n\u001b[1;32m   8882\u001b[0m \u001b[43m\u001b[49m\u001b[43m)\u001b[49m\n",
      "File \u001b[0;32m~/mle_projects/mle-project-sprint-4-v001/.venv/lib/python3.10/site-packages/pandas/core/groupby/groupby.py:1274\u001b[0m, in \u001b[0;36mGroupBy.__init__\u001b[0;34m(self, obj, keys, axis, level, grouper, exclusions, selection, as_index, sort, group_keys, observed, dropna)\u001b[0m\n\u001b[1;32m   1271\u001b[0m \u001b[38;5;28mself\u001b[39m\u001b[38;5;241m.\u001b[39mdropna \u001b[38;5;241m=\u001b[39m dropna\n\u001b[1;32m   1273\u001b[0m \u001b[38;5;28;01mif\u001b[39;00m grouper \u001b[38;5;129;01mis\u001b[39;00m \u001b[38;5;28;01mNone\u001b[39;00m:\n\u001b[0;32m-> 1274\u001b[0m     grouper, exclusions, obj \u001b[38;5;241m=\u001b[39m \u001b[43mget_grouper\u001b[49m\u001b[43m(\u001b[49m\n\u001b[1;32m   1275\u001b[0m \u001b[43m        \u001b[49m\u001b[43mobj\u001b[49m\u001b[43m,\u001b[49m\n\u001b[1;32m   1276\u001b[0m \u001b[43m        \u001b[49m\u001b[43mkeys\u001b[49m\u001b[43m,\u001b[49m\n\u001b[1;32m   1277\u001b[0m \u001b[43m        \u001b[49m\u001b[43maxis\u001b[49m\u001b[38;5;241;43m=\u001b[39;49m\u001b[43maxis\u001b[49m\u001b[43m,\u001b[49m\n\u001b[1;32m   1278\u001b[0m \u001b[43m        \u001b[49m\u001b[43mlevel\u001b[49m\u001b[38;5;241;43m=\u001b[39;49m\u001b[43mlevel\u001b[49m\u001b[43m,\u001b[49m\n\u001b[1;32m   1279\u001b[0m \u001b[43m        \u001b[49m\u001b[43msort\u001b[49m\u001b[38;5;241;43m=\u001b[39;49m\u001b[43msort\u001b[49m\u001b[43m,\u001b[49m\n\u001b[1;32m   1280\u001b[0m \u001b[43m        \u001b[49m\u001b[43mobserved\u001b[49m\u001b[38;5;241;43m=\u001b[39;49m\u001b[38;5;28;43;01mFalse\u001b[39;49;00m\u001b[43m \u001b[49m\u001b[38;5;28;43;01mif\u001b[39;49;00m\u001b[43m \u001b[49m\u001b[43mobserved\u001b[49m\u001b[43m \u001b[49m\u001b[38;5;129;43;01mis\u001b[39;49;00m\u001b[43m \u001b[49m\u001b[43mlib\u001b[49m\u001b[38;5;241;43m.\u001b[39;49m\u001b[43mno_default\u001b[49m\u001b[43m \u001b[49m\u001b[38;5;28;43;01melse\u001b[39;49;00m\u001b[43m \u001b[49m\u001b[43mobserved\u001b[49m\u001b[43m,\u001b[49m\n\u001b[1;32m   1281\u001b[0m \u001b[43m        \u001b[49m\u001b[43mdropna\u001b[49m\u001b[38;5;241;43m=\u001b[39;49m\u001b[38;5;28;43mself\u001b[39;49m\u001b[38;5;241;43m.\u001b[39;49m\u001b[43mdropna\u001b[49m\u001b[43m,\u001b[49m\n\u001b[1;32m   1282\u001b[0m \u001b[43m    \u001b[49m\u001b[43m)\u001b[49m\n\u001b[1;32m   1284\u001b[0m \u001b[38;5;28;01mif\u001b[39;00m observed \u001b[38;5;129;01mis\u001b[39;00m lib\u001b[38;5;241m.\u001b[39mno_default:\n\u001b[1;32m   1285\u001b[0m     \u001b[38;5;28;01mif\u001b[39;00m \u001b[38;5;28many\u001b[39m(ping\u001b[38;5;241m.\u001b[39m_passed_categorical \u001b[38;5;28;01mfor\u001b[39;00m ping \u001b[38;5;129;01min\u001b[39;00m grouper\u001b[38;5;241m.\u001b[39mgroupings):\n",
      "File \u001b[0;32m~/mle_projects/mle-project-sprint-4-v001/.venv/lib/python3.10/site-packages/pandas/core/groupby/grouper.py:1009\u001b[0m, in \u001b[0;36mget_grouper\u001b[0;34m(obj, key, axis, level, sort, observed, validate, dropna)\u001b[0m\n\u001b[1;32m   1007\u001b[0m         in_axis, level, gpr \u001b[38;5;241m=\u001b[39m \u001b[38;5;28;01mFalse\u001b[39;00m, gpr, \u001b[38;5;28;01mNone\u001b[39;00m\n\u001b[1;32m   1008\u001b[0m     \u001b[38;5;28;01melse\u001b[39;00m:\n\u001b[0;32m-> 1009\u001b[0m         \u001b[38;5;28;01mraise\u001b[39;00m \u001b[38;5;167;01mKeyError\u001b[39;00m(gpr)\n\u001b[1;32m   1010\u001b[0m \u001b[38;5;28;01melif\u001b[39;00m \u001b[38;5;28misinstance\u001b[39m(gpr, Grouper) \u001b[38;5;129;01mand\u001b[39;00m gpr\u001b[38;5;241m.\u001b[39mkey \u001b[38;5;129;01mis\u001b[39;00m \u001b[38;5;129;01mnot\u001b[39;00m \u001b[38;5;28;01mNone\u001b[39;00m:\n\u001b[1;32m   1011\u001b[0m     \u001b[38;5;66;03m# Add key to exclusions\u001b[39;00m\n\u001b[1;32m   1012\u001b[0m     exclusions\u001b[38;5;241m.\u001b[39madd(gpr\u001b[38;5;241m.\u001b[39mkey)\n",
      "\u001b[0;31mKeyError\u001b[0m: 'item_id'"
     ]
    }
   ],
   "source": [
    "item_popularity = events_train.groupby(\"item_id\")\\\n",
    "    .agg(users=(\"user_id\", \"nunique\"), avg_rating=(\"rating\", \"mean\"))\\\n",
    "    .reset_index()\n",
    "\n",
    "# нормализация пользователей и среднего рейтинга, требуется для их приведения к одному масштабу\n",
    "scaler = MinMaxScaler()\n",
    "item_popularity[[\"users_norm\", \"avg_rating_norm\"]] = scaler.fit_transform(\n",
    "    item_popularity[[\"users\", \"avg_rating\"]]\n",
    ")\n",
    "\n",
    "# вычисляем popularity_score, как скор популярности со штрафом за низкий рейтинг\n",
    "item_popularity[\"popularity_score\"] = (\n",
    "    item_popularity[\"users_norm\"] * item_popularity[\"avg_rating_norm\"]\n",
    ")\n",
    "\n",
    "# выбираем первые 10 айтемов с самым высоким значением popularity_score\n",
    "top_k_pop_items = item_popularity.nlargest(n=10, columns=[\"popularity_score\"])\n",
    "top_k_pop_items.head()"
   ]
  },
  {
   "cell_type": "code",
   "execution_count": null,
   "id": "7690c86f-7aa9-46ed-bba5-2c837626411e",
   "metadata": {},
   "outputs": [],
   "source": []
  },
  {
   "cell_type": "markdown",
   "id": "2ad231f2-6158-421a-b7fa-01d8bc3ed572",
   "metadata": {},
   "source": [
    "# Персональные"
   ]
  },
  {
   "cell_type": "markdown",
   "id": "86159460-cd9d-4b63-8248-604ea3c9aebf",
   "metadata": {},
   "source": [
    "Рассчитаем персональные рекомендации."
   ]
  },
  {
   "cell_type": "code",
   "execution_count": null,
   "id": "d2944822-569c-4f9b-82dc-70a7fa2d542e",
   "metadata": {},
   "outputs": [],
   "source": []
  },
  {
   "cell_type": "code",
   "execution_count": null,
   "id": "1e8cdb58-3a8c-45ad-8e5f-7f950314aa56",
   "metadata": {},
   "outputs": [],
   "source": []
  },
  {
   "cell_type": "markdown",
   "id": "5f09dc7e-7c91-4355-860a-b9cfb9f33f15",
   "metadata": {},
   "source": [
    "# Похожие"
   ]
  },
  {
   "cell_type": "markdown",
   "id": "1dfcb683-b440-40a8-9975-894156a53872",
   "metadata": {},
   "source": [
    "Рассчитаем похожие, они позже пригодятся для онлайн-рекомендаций."
   ]
  },
  {
   "cell_type": "code",
   "execution_count": null,
   "id": "a75d07ee-4b12-4ce5-aa85-e45cb7a7a4f0",
   "metadata": {},
   "outputs": [],
   "source": []
  },
  {
   "cell_type": "code",
   "execution_count": null,
   "id": "ce370904-4c49-4152-8706-416074ea9b9a",
   "metadata": {},
   "outputs": [],
   "source": []
  },
  {
   "cell_type": "markdown",
   "id": "0087a3e7-ca9f-42cd-944c-944222c1baef",
   "metadata": {},
   "source": [
    "# Построение признаков"
   ]
  },
  {
   "cell_type": "markdown",
   "id": "e82a32e1-b90b-4eaf-9439-fc8deab9f34b",
   "metadata": {},
   "source": [
    "Построим три признака, можно больше, для ранжирующей модели."
   ]
  },
  {
   "cell_type": "code",
   "execution_count": null,
   "id": "05b4ae84-406a-44a4-abec-4f80f93e3004",
   "metadata": {},
   "outputs": [],
   "source": []
  },
  {
   "cell_type": "code",
   "execution_count": null,
   "id": "00f84c35-f544-4c3d-ad53-9b1d2b684c75",
   "metadata": {},
   "outputs": [],
   "source": []
  },
  {
   "cell_type": "markdown",
   "id": "47bcf88d-b236-46f0-a6f3-38ddd64895fe",
   "metadata": {},
   "source": [
    "# Ранжирование рекомендаций"
   ]
  },
  {
   "cell_type": "markdown",
   "id": "e8cd8223-3418-4493-8c87-1f76286ebda0",
   "metadata": {},
   "source": [
    "Построим ранжирующую модель, чтобы сделать рекомендации более точными. Отранжируем рекомендации."
   ]
  },
  {
   "cell_type": "code",
   "execution_count": null,
   "id": "79f1dd92-32a9-463d-827e-8bb9ee5bbb54",
   "metadata": {},
   "outputs": [],
   "source": []
  },
  {
   "cell_type": "code",
   "execution_count": null,
   "id": "6dbe4db4-1ac5-44da-a13c-8e7f9768ab73",
   "metadata": {},
   "outputs": [],
   "source": []
  },
  {
   "cell_type": "markdown",
   "id": "b3c84071-45b5-4a15-a683-e0ab034a3128",
   "metadata": {},
   "source": [
    "# Оценка качества"
   ]
  },
  {
   "cell_type": "markdown",
   "id": "1b107fe4-554e-42b1-87d9-c435a52bb77a",
   "metadata": {},
   "source": [
    "Проверим оценку качества трёх типов рекомендаций: \n",
    "\n",
    "- топ популярных,\n",
    "- персональных, полученных при помощи ALS,\n",
    "- итоговых\n",
    "  \n",
    "по четырем метрикам: recall, precision, coverage, novelty."
   ]
  },
  {
   "cell_type": "code",
   "execution_count": null,
   "id": "94d6f388-aecb-443e-8647-14014e932d4d",
   "metadata": {},
   "outputs": [],
   "source": []
  },
  {
   "cell_type": "code",
   "execution_count": null,
   "id": "26df411f-14c1-4848-8797-f37afe449cc6",
   "metadata": {},
   "outputs": [],
   "source": []
  },
  {
   "cell_type": "markdown",
   "id": "f1c8d38c-32b0-46a4-96f0-cd01dac708bc",
   "metadata": {},
   "source": [
    "# === Выводы, метрики ==="
   ]
  },
  {
   "cell_type": "markdown",
   "id": "f7d7d5d8-7d1e-4fdf-a6cd-83e5ce92c684",
   "metadata": {},
   "source": [
    "Основные выводы при работе над расчётом рекомендаций, рассчитанные метрики."
   ]
  },
  {
   "cell_type": "code",
   "execution_count": null,
   "id": "6403097d-db36-46d9-8952-613c9bd51b05",
   "metadata": {},
   "outputs": [],
   "source": []
  },
  {
   "cell_type": "code",
   "execution_count": null,
   "id": "986cfdd5-6f2e-4de6-8666-85804c87d04b",
   "metadata": {},
   "outputs": [],
   "source": []
  }
 ],
 "metadata": {
  "kernelspec": {
   "display_name": ".venv",
   "language": "python",
   "name": "python3"
  },
  "language_info": {
   "codemirror_mode": {
    "name": "ipython",
    "version": 3
   },
   "file_extension": ".py",
   "mimetype": "text/x-python",
   "name": "python",
   "nbconvert_exporter": "python",
   "pygments_lexer": "ipython3",
   "version": "3.10.12"
  }
 },
 "nbformat": 4,
 "nbformat_minor": 5
}
