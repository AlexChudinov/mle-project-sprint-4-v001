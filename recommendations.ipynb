{
 "cells": [
  {
   "cell_type": "markdown",
   "id": "f4095ae4-7294-4b28-853e-88d235002c97",
   "metadata": {},
   "source": [
    "# Инициализация"
   ]
  },
  {
   "cell_type": "markdown",
   "id": "2f2318d2-9df8-4911-915e-15b725c44f8a",
   "metadata": {},
   "source": [
    "Загружаем библиотеки необходимые для выполнения кода ноутбука."
   ]
  },
  {
   "cell_type": "code",
   "execution_count": 1,
   "id": "662d04e7-1b0b-4e4a-9ddf-4526d7fef119",
   "metadata": {},
   "outputs": [],
   "source": [
    "import os\n",
    "from pathlib import Path\n",
    "\n",
    "import matplotlib.pyplot as plt\n",
    "import pandas as pd\n",
    "import pyarrow as pa\n",
    "import seaborn as sns\n",
    "import sqlite3\n",
    "import tqdm\n",
    "\n",
    "from recsyslib.parquet import (\n",
    "    upload_nrows_to_df,\n",
    "    parquet_upploader,\n",
    "    get_parquet_row_count\n",
    ")\n",
    "from recsyslib.sqlite import sqlite3_connection, read_sqlite3_dump"
   ]
  },
  {
   "cell_type": "markdown",
   "id": "9ec24667",
   "metadata": {},
   "source": [
    "Проверяем окружение, создаем необходимые каталоги и файлы"
   ]
  },
  {
   "cell_type": "code",
   "execution_count": 2,
   "id": "5a6e1929",
   "metadata": {},
   "outputs": [
    {
     "name": "stdout",
     "output_type": "stream",
     "text": [
      "All files are already downloaded, if you need to forcely download them, please, use the -f or --force option\n",
      "CPU times: user 4.74 ms, sys: 6.87 ms, total: 11.6 ms\n",
      "Wall time: 129 ms\n"
     ]
    }
   ],
   "source": [
    "%%time\n",
    "!scripts/download_data.sh"
   ]
  },
  {
   "cell_type": "code",
   "execution_count": 2,
   "id": "bd595418",
   "metadata": {},
   "outputs": [],
   "source": [
    "input_data_path = Path('ym')\n",
    "output_data_path = Path('data')\n",
    "output_data_path.mkdir(exist_ok=True)\n",
    "\n",
    "assert input_data_path.exists()\n",
    "assert input_data_path.is_dir()\n",
    "assert set(file.stem for file in input_data_path.glob('*.parquet')) == {\"catalog_names\", \"interactions\", \"tracks\"} "
   ]
  },
  {
   "cell_type": "markdown",
   "id": "bf80fbc5-b660-4fac-8fbb-a5cae77313b3",
   "metadata": {},
   "source": [
    "# === ЭТАП 1 ==="
   ]
  },
  {
   "cell_type": "markdown",
   "id": "5263a8b3-fe99-4204-8a2e-105182792c11",
   "metadata": {},
   "source": [
    "# Загрузка первичных данных"
   ]
  },
  {
   "cell_type": "markdown",
   "id": "1b54a6a5-1656-4e3c-99d1-49dc39451d33",
   "metadata": {},
   "source": [
    "Загружаем первичные данные из файлов:\n",
    "- tracks.parquet\n",
    "- catalog_names.parquet\n",
    "- interactions.parquet\n",
    "\n",
    "Cтруктура данных:\n",
    "\n",
    " * `interactions`:\n",
    "    - `user_id` — идентификатор пользователя\n",
    "    - `track_id` — идентификатор музыкального трека\n",
    "    - `track_seq` — номер места трека в истории пользователя\n",
    "    - `started_at` — дата начала прослушивания трека\n",
    "\n",
    " * `tracks`:\n",
    "    - `track_id` — идентификатор музыкального трека\n",
    "    - `albums` —  список идентификаторов альбомов, содержащих трек\n",
    "    - `artists` — список идентификаторов исполнителей трека\n",
    "    - `genres` — список идентификаторов жанров, к которым принадлежит трек\n",
    "\n",
    " * `catalog_names`:\n",
    "    - `id` — идентификатор одной из каталожных единиц (трека, альбома, исполнителя, жанра)\n",
    "    - `type` — тип идентификатора\n",
    "    - `name` — имя (название) каталожной единицы"
   ]
  },
  {
   "cell_type": "code",
   "execution_count": 4,
   "id": "5d4b8961-3f35-4e58-9d6b-3e2dbd2c4224",
   "metadata": {},
   "outputs": [
    {
     "name": "stdout",
     "output_type": "stream",
     "text": [
      "CPU times: user 1 μs, sys: 1e+03 ns, total: 2 μs\n",
      "Wall time: 3.34 μs\n"
     ]
    }
   ],
   "source": [
    "%time\n",
    "tracks = pd.read_parquet(input_data_path / \"tracks.parquet\")\n",
    "catalog_names = pd.read_parquet(input_data_path / \"catalog_names.parquet\")\n",
    "interactions = upload_nrows_to_df(input_data_path / \"interactions.parquet\")"
   ]
  },
  {
   "cell_type": "code",
   "execution_count": 5,
   "id": "da29dc02",
   "metadata": {},
   "outputs": [
    {
     "data": {
      "text/html": [
       "<div>\n",
       "<style scoped>\n",
       "    .dataframe tbody tr th:only-of-type {\n",
       "        vertical-align: middle;\n",
       "    }\n",
       "\n",
       "    .dataframe tbody tr th {\n",
       "        vertical-align: top;\n",
       "    }\n",
       "\n",
       "    .dataframe thead th {\n",
       "        text-align: right;\n",
       "    }\n",
       "</style>\n",
       "<table border=\"1\" class=\"dataframe\">\n",
       "  <thead>\n",
       "    <tr style=\"text-align: right;\">\n",
       "      <th></th>\n",
       "      <th>track_id</th>\n",
       "      <th>albums</th>\n",
       "      <th>artists</th>\n",
       "      <th>genres</th>\n",
       "    </tr>\n",
       "  </thead>\n",
       "  <tbody>\n",
       "    <tr>\n",
       "      <th>0</th>\n",
       "      <td>26</td>\n",
       "      <td>[3, 2490753]</td>\n",
       "      <td>[16]</td>\n",
       "      <td>[11, 21]</td>\n",
       "    </tr>\n",
       "    <tr>\n",
       "      <th>1</th>\n",
       "      <td>38</td>\n",
       "      <td>[3, 2490753]</td>\n",
       "      <td>[16]</td>\n",
       "      <td>[11, 21]</td>\n",
       "    </tr>\n",
       "    <tr>\n",
       "      <th>2</th>\n",
       "      <td>135</td>\n",
       "      <td>[12, 214, 2490809]</td>\n",
       "      <td>[84]</td>\n",
       "      <td>[11]</td>\n",
       "    </tr>\n",
       "    <tr>\n",
       "      <th>3</th>\n",
       "      <td>136</td>\n",
       "      <td>[12, 214, 2490809]</td>\n",
       "      <td>[84]</td>\n",
       "      <td>[11]</td>\n",
       "    </tr>\n",
       "    <tr>\n",
       "      <th>4</th>\n",
       "      <td>138</td>\n",
       "      <td>[12, 214, 322, 72275, 72292, 91199, 213505, 24...</td>\n",
       "      <td>[84]</td>\n",
       "      <td>[11]</td>\n",
       "    </tr>\n",
       "  </tbody>\n",
       "</table>\n",
       "</div>"
      ],
      "text/plain": [
       "   track_id                                             albums artists  \\\n",
       "0        26                                       [3, 2490753]    [16]   \n",
       "1        38                                       [3, 2490753]    [16]   \n",
       "2       135                                 [12, 214, 2490809]    [84]   \n",
       "3       136                                 [12, 214, 2490809]    [84]   \n",
       "4       138  [12, 214, 322, 72275, 72292, 91199, 213505, 24...    [84]   \n",
       "\n",
       "     genres  \n",
       "0  [11, 21]  \n",
       "1  [11, 21]  \n",
       "2      [11]  \n",
       "3      [11]  \n",
       "4      [11]  "
      ]
     },
     "execution_count": 5,
     "metadata": {},
     "output_type": "execute_result"
    }
   ],
   "source": [
    "tracks.head()"
   ]
  },
  {
   "cell_type": "code",
   "execution_count": 6,
   "id": "f6bd0b20",
   "metadata": {},
   "outputs": [
    {
     "data": {
      "text/html": [
       "<div>\n",
       "<style scoped>\n",
       "    .dataframe tbody tr th:only-of-type {\n",
       "        vertical-align: middle;\n",
       "    }\n",
       "\n",
       "    .dataframe tbody tr th {\n",
       "        vertical-align: top;\n",
       "    }\n",
       "\n",
       "    .dataframe thead th {\n",
       "        text-align: right;\n",
       "    }\n",
       "</style>\n",
       "<table border=\"1\" class=\"dataframe\">\n",
       "  <thead>\n",
       "    <tr style=\"text-align: right;\">\n",
       "      <th></th>\n",
       "      <th>id</th>\n",
       "      <th>type</th>\n",
       "      <th>name</th>\n",
       "    </tr>\n",
       "  </thead>\n",
       "  <tbody>\n",
       "    <tr>\n",
       "      <th>0</th>\n",
       "      <td>3</td>\n",
       "      <td>album</td>\n",
       "      <td>Taller Children</td>\n",
       "    </tr>\n",
       "    <tr>\n",
       "      <th>1</th>\n",
       "      <td>12</td>\n",
       "      <td>album</td>\n",
       "      <td>Wild Young Hearts</td>\n",
       "    </tr>\n",
       "    <tr>\n",
       "      <th>2</th>\n",
       "      <td>13</td>\n",
       "      <td>album</td>\n",
       "      <td>Lonesome Crow</td>\n",
       "    </tr>\n",
       "    <tr>\n",
       "      <th>3</th>\n",
       "      <td>17</td>\n",
       "      <td>album</td>\n",
       "      <td>Graffiti Soul</td>\n",
       "    </tr>\n",
       "    <tr>\n",
       "      <th>4</th>\n",
       "      <td>26</td>\n",
       "      <td>album</td>\n",
       "      <td>Blues Six Pack</td>\n",
       "    </tr>\n",
       "  </tbody>\n",
       "</table>\n",
       "</div>"
      ],
      "text/plain": [
       "   id   type               name\n",
       "0   3  album    Taller Children\n",
       "1  12  album  Wild Young Hearts\n",
       "2  13  album      Lonesome Crow\n",
       "3  17  album      Graffiti Soul\n",
       "4  26  album     Blues Six Pack"
      ]
     },
     "execution_count": 6,
     "metadata": {},
     "output_type": "execute_result"
    }
   ],
   "source": [
    "catalog_names.head()"
   ]
  },
  {
   "cell_type": "code",
   "execution_count": 7,
   "id": "b4937e4b",
   "metadata": {},
   "outputs": [
    {
     "data": {
      "text/html": [
       "<div>\n",
       "<style scoped>\n",
       "    .dataframe tbody tr th:only-of-type {\n",
       "        vertical-align: middle;\n",
       "    }\n",
       "\n",
       "    .dataframe tbody tr th {\n",
       "        vertical-align: top;\n",
       "    }\n",
       "\n",
       "    .dataframe thead th {\n",
       "        text-align: right;\n",
       "    }\n",
       "</style>\n",
       "<table border=\"1\" class=\"dataframe\">\n",
       "  <thead>\n",
       "    <tr style=\"text-align: right;\">\n",
       "      <th></th>\n",
       "      <th>user_id</th>\n",
       "      <th>track_id</th>\n",
       "      <th>track_seq</th>\n",
       "      <th>started_at</th>\n",
       "    </tr>\n",
       "  </thead>\n",
       "  <tbody>\n",
       "    <tr>\n",
       "      <th>0</th>\n",
       "      <td>0</td>\n",
       "      <td>99262</td>\n",
       "      <td>1</td>\n",
       "      <td>2022-07-17</td>\n",
       "    </tr>\n",
       "    <tr>\n",
       "      <th>1</th>\n",
       "      <td>0</td>\n",
       "      <td>589498</td>\n",
       "      <td>2</td>\n",
       "      <td>2022-07-19</td>\n",
       "    </tr>\n",
       "    <tr>\n",
       "      <th>2</th>\n",
       "      <td>0</td>\n",
       "      <td>590262</td>\n",
       "      <td>3</td>\n",
       "      <td>2022-07-21</td>\n",
       "    </tr>\n",
       "    <tr>\n",
       "      <th>3</th>\n",
       "      <td>0</td>\n",
       "      <td>590303</td>\n",
       "      <td>4</td>\n",
       "      <td>2022-07-22</td>\n",
       "    </tr>\n",
       "    <tr>\n",
       "      <th>4</th>\n",
       "      <td>0</td>\n",
       "      <td>590692</td>\n",
       "      <td>5</td>\n",
       "      <td>2022-07-22</td>\n",
       "    </tr>\n",
       "  </tbody>\n",
       "</table>\n",
       "</div>"
      ],
      "text/plain": [
       "   user_id  track_id  track_seq started_at\n",
       "0        0     99262          1 2022-07-17\n",
       "1        0    589498          2 2022-07-19\n",
       "2        0    590262          3 2022-07-21\n",
       "3        0    590303          4 2022-07-22\n",
       "4        0    590692          5 2022-07-22"
      ]
     },
     "execution_count": 7,
     "metadata": {},
     "output_type": "execute_result"
    }
   ],
   "source": [
    "interactions.head()"
   ]
  },
  {
   "cell_type": "markdown",
   "id": "e8f2a1f7-a05f-4f39-af90-5f4018aa6f9d",
   "metadata": {},
   "source": [
    "# Обзор данных"
   ]
  },
  {
   "cell_type": "markdown",
   "id": "46a85307-896c-4fac-9fcf-f0dffa90889e",
   "metadata": {},
   "source": [
    "Проверяем данные, есть ли с ними явные проблемы."
   ]
  },
  {
   "cell_type": "markdown",
   "id": "690ea407",
   "metadata": {},
   "source": [
    "## Количество строк"
   ]
  },
  {
   "cell_type": "code",
   "execution_count": 8,
   "id": "af45291e",
   "metadata": {},
   "outputs": [
    {
     "name": "stdout",
     "output_type": "stream",
     "text": [
      "Кол-во строк в датасете с треками: 1.000000e+06\n"
     ]
    }
   ],
   "source": [
    "print(f\"Кол-во строк в датасете с треками: {len(tracks):e}\")"
   ]
  },
  {
   "cell_type": "code",
   "execution_count": 9,
   "id": "0982b10f",
   "metadata": {},
   "outputs": [
    {
     "name": "stdout",
     "output_type": "stream",
     "text": [
      "Кол-во строк в датасете с каталогом: 1.812471e+06\n"
     ]
    }
   ],
   "source": [
    "print(f\"Кол-во строк в датасете с каталогом: {len(catalog_names):e}\")"
   ]
  },
  {
   "cell_type": "code",
   "execution_count": 10,
   "id": "4573a206",
   "metadata": {},
   "outputs": [
    {
     "name": "stdout",
     "output_type": "stream",
     "text": [
      "Кол-во строк в датасете со взаимодействиями: 2.226299e+08\n"
     ]
    }
   ],
   "source": [
    "interactions_rows_count = get_parquet_row_count(input_data_path / 'interactions.parquet')\n",
    "print(f\"Кол-во строк в датасете со взаимодействиями: {interactions_rows_count:e}\")"
   ]
  },
  {
   "cell_type": "markdown",
   "id": "60cc9b46",
   "metadata": {},
   "source": [
    "## Типы данныx"
   ]
  },
  {
   "cell_type": "code",
   "execution_count": 11,
   "id": "5badc802",
   "metadata": {},
   "outputs": [
    {
     "data": {
      "text/plain": [
       "track_id     int64\n",
       "albums      object\n",
       "artists     object\n",
       "genres      object\n",
       "dtype: object"
      ]
     },
     "execution_count": 11,
     "metadata": {},
     "output_type": "execute_result"
    }
   ],
   "source": [
    "tracks.dtypes"
   ]
  },
  {
   "cell_type": "code",
   "execution_count": 12,
   "id": "7e9b4289",
   "metadata": {},
   "outputs": [
    {
     "data": {
      "text/plain": [
       "id       int64\n",
       "type    object\n",
       "name    object\n",
       "dtype: object"
      ]
     },
     "execution_count": 12,
     "metadata": {},
     "output_type": "execute_result"
    }
   ],
   "source": [
    "catalog_names.dtypes"
   ]
  },
  {
   "cell_type": "code",
   "execution_count": 13,
   "id": "39a8ffc7",
   "metadata": {},
   "outputs": [
    {
     "data": {
      "text/plain": [
       "user_id                int32\n",
       "track_id               int32\n",
       "track_seq              int16\n",
       "started_at    datetime64[ns]\n",
       "dtype: object"
      ]
     },
     "execution_count": 13,
     "metadata": {},
     "output_type": "execute_result"
    }
   ],
   "source": [
    "interactions.dtypes"
   ]
  },
  {
   "cell_type": "markdown",
   "id": "d93c64e5",
   "metadata": {},
   "source": [
    "## Пропущенные значения"
   ]
  },
  {
   "cell_type": "code",
   "execution_count": 14,
   "id": "c9f8f17e-9b56-4f5a-a463-f694a993effb",
   "metadata": {},
   "outputs": [
    {
     "data": {
      "text/plain": [
       "track_id    0\n",
       "albums      0\n",
       "artists     0\n",
       "genres      0\n",
       "dtype: int64"
      ]
     },
     "execution_count": 14,
     "metadata": {},
     "output_type": "execute_result"
    }
   ],
   "source": [
    "tracks.isna().sum()"
   ]
  },
  {
   "cell_type": "code",
   "execution_count": 15,
   "id": "efd2e2eb-3bec-4ce1-87ac-232bab8bc0d0",
   "metadata": {},
   "outputs": [
    {
     "data": {
      "text/plain": [
       "id      0\n",
       "type    0\n",
       "name    0\n",
       "dtype: int64"
      ]
     },
     "execution_count": 15,
     "metadata": {},
     "output_type": "execute_result"
    }
   ],
   "source": [
    "catalog_names.isna().sum()"
   ]
  },
  {
   "cell_type": "code",
   "execution_count": 16,
   "id": "80ac45cf",
   "metadata": {},
   "outputs": [
    {
     "name": "stdout",
     "output_type": "stream",
     "text": [
      "CPU times: user 9.7 s, sys: 1.32 s, total: 11 s\n",
      "Wall time: 8.66 s\n"
     ]
    },
    {
     "data": {
      "text/plain": [
       "user_id       0\n",
       "track_id      0\n",
       "track_seq     0\n",
       "started_at    0\n",
       "dtype: int64"
      ]
     },
     "execution_count": 16,
     "metadata": {},
     "output_type": "execute_result"
    }
   ],
   "source": [
    "%%time\n",
    "sum(\n",
    "    pa.Table.from_batches([chunk])\n",
    "        .to_pandas()\n",
    "        .isna()\n",
    "        .sum()\n",
    "    for chunk in parquet_upploader(input_data_path / \"interactions.parquet\", batch_size=100000))"
   ]
  },
  {
   "cell_type": "markdown",
   "id": "0bf4d03a",
   "metadata": {},
   "source": [
    "## Пустые списки и пустые строки"
   ]
  },
  {
   "cell_type": "markdown",
   "id": "f422c4c6",
   "metadata": {},
   "source": [
    "Пустые списки исполнителей, альбомов и жанров"
   ]
  },
  {
   "cell_type": "code",
   "execution_count": 17,
   "id": "99b5c9ac",
   "metadata": {},
   "outputs": [
    {
     "name": "stdout",
     "output_type": "stream",
     "text": [
      "\n",
      "Пустые списки альбомов: 0.0018%\n",
      "Пустые списки исполнителей: 1.5%\n",
      "Пустые списки жанров: 0.37%\n",
      "Общее количество пустых ячеек в треках: 1.9%\n",
      "Трэки, у которых что-то из вышеперечисленного пустое: 1.9%\n",
      "Пустые имена в каталоге: 0\n",
      "Пустые жанры в каталоге: 0\n",
      "\n"
     ]
    }
   ],
   "source": [
    "empty_albums = tracks.albums.str.len() == 0\n",
    "empty_artists = tracks.artists.str.len() == 0\n",
    "empty_tracks = tracks.genres.str.len() == 0\n",
    "empty_name = catalog_names.name.str.len() == 0\n",
    "empty_type = catalog_names.type.str.len() == 0\n",
    "print(\n",
    "f\"\"\"\n",
    "Пустые списки альбомов: {empty_albums.sum() / len(empty_albums) * 100.:.2}%\n",
    "Пустые списки исполнителей: {empty_artists.sum() / len(empty_artists) * 100.:.2}%\n",
    "Пустые списки жанров: {empty_tracks.sum() / len(empty_tracks) * 100.:.2}%\n",
    "Общее количество пустых ячеек в треках: {(empty_albums + empty_artists + empty_tracks).sum() / len(empty_tracks) * 100.:.2}%\n",
    "Трэки, у которых что-то из вышеперечисленного пустое: {(empty_albums | empty_tracks | empty_artists).sum() / len(empty_tracks) * 100.:.2}%\n",
    "Пустые имена в каталоге: {empty_name.sum()}\n",
    "Пустые жанры в каталоге: {empty_type.sum()}\n",
    "\"\"\")"
   ]
  },
  {
   "cell_type": "markdown",
   "id": "bbd7b238",
   "metadata": {},
   "source": [
    "## Повторяющиеся значения"
   ]
  },
  {
   "cell_type": "code",
   "execution_count": null,
   "id": "b9bf837a",
   "metadata": {},
   "outputs": [
    {
     "name": "stdout",
     "output_type": "stream",
     "text": [
      "\n",
      "Повторяющиеся строки в треках: 0\n",
      "Повторяющиеся строки в каталоге: 0\n",
      "\n"
     ]
    }
   ],
   "source": [
    "duplicated_tracks = tracks.explode(\"albums\").explode(\"artists\").explode(\"genres\").duplicated().sum()\n",
    "duplicated_catalog_names = catalog_names.duplicated().sum()\n",
    "print(\n",
    "f\"\"\"\n",
    "Повторяющиеся строки в треках: {duplicated_tracks}\n",
    "Повторяющиеся строки в каталоге: {duplicated_catalog_names}\n",
    "\"\"\")"
   ]
  },
  {
   "cell_type": "code",
   "execution_count": 3,
   "id": "0ca9973c",
   "metadata": {},
   "outputs": [
    {
     "name": "stdout",
     "output_type": "stream",
     "text": [
      "Повторяющиеся строки во взаимодействиях: 0\n",
      "CPU times: user 379 μs, sys: 138 μs, total: 517 μs\n",
      "Wall time: 383 μs\n"
     ]
    }
   ],
   "source": [
    "%%time\n",
    "# Так как объем данных в таблице interactions при загрузке в pandas может превышать \n",
    "# (sizeof(int32) * 2 + sizeof(int16) + sizeof(datetime64[ns])) * 2.226299e+08 / 2**30 = 3.73 ГБ,\n",
    "# то просто для возможности работы лучше выгрузим это в SQLite3.\n",
    "\n",
    "interactions_dump = output_data_path / \"interactions.sqlite3.dump\"\n",
    "\n",
    "if not interactions_dump.exists():\n",
    "    with sqlite3.connect(interactions_dump) as db:\n",
    "\n",
    "        db.execute(\n",
    "        \"\"\"\n",
    "\n",
    "            CREATE TABLE IF NOT EXISTS interactions (\n",
    "                user_id INTEGER,\n",
    "                track_id INTEGER,\n",
    "                track_seq SHORTINT,\n",
    "                started_at DATETIME,\n",
    "                PRIMARY KEY (user_id, track_id, track_seq, started_at)\n",
    "            );\n",
    "        \"\"\")\n",
    "        db.commit()\n",
    "\n",
    "        interactions_duplicate_count = 0\n",
    "        batch_size = 100000\n",
    "        for chunk in tqdm.tqdm(parquet_upploader(input_data_path / \"interactions.parquet\", batch_size=batch_size),\n",
    "                               total=interactions_rows_count / batch_size):\n",
    "            next_batch = pa.Table.from_batches([chunk]).to_pandas()\n",
    "            try:\n",
    "                next_batch.to_sql(\"interactions\", db, if_exists=\"append\", index=False)\n",
    "            except sqlite3.IntegrityError as e:\n",
    "                interactions_duplicate_count += 1\n",
    "        \n",
    "        db.execute(\n",
    "        \"\"\"\n",
    "            CREATE INDEX IF NOT EXISTS interactions_user_id_idx ON interactions (user_id);\n",
    "        \"\"\")\n",
    "\n",
    "        db.execute(\n",
    "        \"\"\"\n",
    "            CREATE INDEX IF NOT EXISTS interactions_track_id_idx ON interactions (track_id);\n",
    "        \"\"\")\n",
    "\n",
    "        db.execute(\n",
    "        \"\"\"\n",
    "            CREATE INDEX IF NOT EXISTS interactions_started_at_idx ON interactions (started_at);\n",
    "        \"\"\")\n",
    "\n",
    "else:\n",
    "    interactions_duplicate_count = 0\n",
    "\n",
    "print(f\"Повторяющиеся строки во взаимодействиях: {interactions_duplicate_count}\")"
   ]
  },
  {
   "cell_type": "markdown",
   "id": "017ff31c",
   "metadata": {},
   "source": [
    "## Жанры, альбомы, исполнителей и взаимосвязи между ними тоже сохраним в персистентной базе данных"
   ]
  },
  {
   "cell_type": "code",
   "execution_count": 20,
   "id": "912d2b80",
   "metadata": {},
   "outputs": [
    {
     "name": "stdout",
     "output_type": "stream",
     "text": [
      "CPU times: user 16.4 s, sys: 2.94 s, total: 19.4 s\n",
      "Wall time: 23.2 s\n"
     ]
    }
   ],
   "source": [
    "%%time\n",
    "\n",
    "def get_tracks_attribute(attribute_type: str) -> pd.DataFrame:\n",
    "    \"\"\"\n",
    "    Получаем новую таблицу, которая содержит только название альбома, исполнителя или жанра\n",
    "    \"\"\"\n",
    "    _COLUMN_NAMES = {\n",
    "        \"album\": \"albums\",\n",
    "        \"artist\": \"artists\",\n",
    "        \"genre\": \"genres\"\n",
    "    }\n",
    "    column = _COLUMN_NAMES[attribute_type]\n",
    "    tracks_local = tracks[[column]].explode(column).dropna().drop_duplicates().astype('int64').rename(columns={column: \"id\"})\n",
    "    return tracks_local.merge(catalog_names[catalog_names[\"type\"] == attribute_type][[\"id\", \"name\"]], on=\"id\").drop_duplicates()\n",
    "\n",
    "with sqlite3_connection(interactions_dump) as db:\n",
    "    for attribute_type in [\"album\", \"artist\", \"genre\"]:\n",
    "        db.execute(f\"DROP TABLE IF EXISTS {attribute_type}s\")\n",
    "        db.execute(f\"CREATE TABLE {attribute_type}s (id INTEGER PRIMARY KEY, name TEXT)\")\n",
    "        get_tracks_attribute(attribute_type).to_sql(f\"{attribute_type}s\", db, if_exists=\"append\", index=False)\n",
    "\n",
    "    db.execute(\"DROP TABLE IF EXISTS tracks_attributes_ids\")\n",
    "    db.execute(\"CREATE TABLE tracks_attributes_ids (track_id INTEGER, attribute_id INTEGER, attribute_type TEXT, UNIQUE (attribute_type, track_id, attribute_id))\")\n",
    "    for attribute_type in [\"album\", \"artist\", \"genre\"]:\n",
    "        column = f\"{attribute_type}s\"\n",
    "        local_tracks = tracks[[\"track_id\", column]].explode(column).rename(columns={column: \"attribute_id\"}).dropna()\n",
    "        local_tracks[\"attribute_id\"] = local_tracks[\"attribute_id\"].astype('int64')\n",
    "        local_tracks[\"attribute_type\"] = attribute_type\n",
    "        local_tracks.to_sql(\"tracks_attributes_ids\", db, if_exists=\"append\", index=False)"
   ]
  },
  {
   "cell_type": "markdown",
   "id": "318b573a-9e2d-4808-95db-60cfb8bbdb73",
   "metadata": {
    "editable": true,
    "slideshow": {
     "slide_type": ""
    },
    "tags": []
   },
   "source": [
    "# Выводы"
   ]
  },
  {
   "cell_type": "markdown",
   "id": "caa96e12-36a8-4401-8f11-98627a49ae9d",
   "metadata": {},
   "source": [
    "Приведём выводы по первому знакомству с данными:\n",
    "- есть ли с данными явные проблемы,\n",
    "- какие корректирующие действия (в целом) были предприняты.\n",
    "\n",
    "**Проблемы с данными:**\n",
    " - данные в таблице `interactions` имеют очень большой объем, что приводит к вылетам по памяти при оперировании этой таблицей в pandas\n",
    " - для 0.0018% треков отсутствуют списки альбомов\n",
    " - для 1.5% треков отсутствуют списки исполнителей\n",
    " - для 0.37% треков отсутствуют списки жанров\n",
    " - отсутствуют в явном виде пользовательские оценки\n",
    " - индексы в таблице `catalog_names` не уникальны, есть дубликаты: индексы альбомов, исполнителей и жанров образуют пересекающиеся множества\n",
    " - индексы объектов и пользователей образуют последовательности, в которых есть пропуски\n",
    "\n",
    " **Корректирующие действия:**\n",
    " - сохранил таблицу `interactions` в SQLite3 и создал индексы для быстрого поиска по `user_id`, `track_id` и `started_at`. T.е. переложил всю ответственность за загрузку в оперативную память и дамп на диск на SQLite3\n",
    " - до конца не ясно, является ли отсутствие альбомов, исполнителей и жанров проблемой, решил оставить как есть\n",
    " - в качестве оценки возьмем частоту встречаемости трека в истории пользователя. Считаем, что время взаимодействия пользователя с сервисом не менее 1 дня (для пользователей, у которых есть только одна запись в таблице `interactions`). Полное время взаимодействия пользователя с сервисом вычисляем так: $$\\Delta t = started\\_at_{last} - started\\_at_{first}$$\n",
    "   Тогда, если за всю историю пользователя один и тот же трек повторился `N` раз, то частота встречаемости для него в истории пользователя: $$f = \\frac{N}{\\Delta t}$$\n",
    "   Но мы это сделаем позже, так как вначале нам нужно разделить выборку на тестовые и тренировочные данные.\n",
    "\n",
    " - альбомы исполнителей и жанры разнес по разным таблицам, чтобы уменьшить вероятность путанницы в дальнейшем\n",
    " - при построении матрицы взаимодействий нужно перекодировать все индексы, так как в последовательностях индексов могут быть пропуски"
   ]
  },
  {
   "cell_type": "markdown",
   "id": "7bc3296b-eba6-4333-a78d-b9304aa87e3d",
   "metadata": {},
   "source": [
    "# === ЭТАП 2 ==="
   ]
  },
  {
   "cell_type": "markdown",
   "id": "68e73960-fd38-4e15-8db0-9a25c35dfd25",
   "metadata": {},
   "source": [
    "# EDA"
   ]
  },
  {
   "cell_type": "markdown",
   "id": "a30e823e-8e0f-4a76-a02e-8d1ba8bf0f8a",
   "metadata": {},
   "source": [
    "Распределение количества прослушанных треков."
   ]
  },
  {
   "cell_type": "code",
   "execution_count": 21,
   "id": "9bf5eaba-35f7-4da7-be59-9ab4a34b2423",
   "metadata": {},
   "outputs": [
    {
     "name": "stdout",
     "output_type": "stream",
     "text": [
      "CPU times: user 1min 37s, sys: 13.7 s, total: 1min 50s\n",
      "Wall time: 1min 51s\n"
     ]
    }
   ],
   "source": [
    "%%time\n",
    "with sqlite3_connection(interactions_dump) as db:\n",
    "    tracks_per_user = pd.read_sql(\n",
    "        \"SELECT user_id, COUNT(*) AS tracks_per_user FROM interactions GROUP BY user_id\", db)\n",
    "    tracks_per_mounth = pd.read_sql(\n",
    "        \"\"\"\n",
    "            SELECT\n",
    "                strftime('%Y-%m', started_at) AS mounth,\n",
    "                COUNT(*) AS tracks_per_mounth\n",
    "            FROM interactions GROUP BY mounth\n",
    "        \"\"\", db)\n",
    "    tracks_per_mounth[\"mounth\"] = pd.to_datetime(tracks_per_mounth[\"mounth\"], format=\"%Y-%m\")"
   ]
  },
  {
   "cell_type": "code",
   "execution_count": 22,
   "id": "4f013fb3",
   "metadata": {},
   "outputs": [
    {
     "data": {
      "image/png": "[encoded data removed]",
      "text/plain": [
       "<Figure size 640x480 with 1 Axes>"
      ]
     },
     "metadata": {},
     "output_type": "display_data"
    }
   ],
   "source": [
    "sns.barplot(tracks_per_mounth, x=\"mounth\", y=\"tracks_per_mounth\")\n",
    "plt.xticks(rotation=45)\n",
    "_ = plt.title(\"Количество прослушанных треков по месяцам\")"
   ]
  },
  {
   "cell_type": "code",
   "execution_count": 23,
   "id": "bffa855d",
   "metadata": {},
   "outputs": [
    {
     "data": {
      "image/png": "[encoded data removed]",
      "text/plain": [
       "<Figure size 500x500 with 1 Axes>"
      ]
     },
     "metadata": {},
     "output_type": "display_data"
    }
   ],
   "source": [
    "\n",
    "sns.displot(tracks_per_user['tracks_per_user'], bins=1000, kde=True)\n",
    "median = tracks_per_user['tracks_per_user'].median()\n",
    "plt.axvline(median, color='red', label=f'медиана {median:.0f}')\n",
    "plt.xscale('log')\n",
    "plt.legend()\n",
    "plt.grid()\n",
    "_ = plt.title('Распределение количества прослушанных треков по пользователям')"
   ]
  },
  {
   "cell_type": "markdown",
   "id": "d765519a-18dd-4d30-9e29-cc2d84cacd79",
   "metadata": {},
   "source": [
    "Наиболее популярные треки"
   ]
  },
  {
   "cell_type": "code",
   "execution_count": 24,
   "id": "aecaf630-fde0-4860-b84a-42c933a9606e",
   "metadata": {},
   "outputs": [
    {
     "name": "stdout",
     "output_type": "stream",
     "text": [
      "CPU times: user 7.9 s, sys: 1.51 s, total: 9.41 s\n",
      "Wall time: 9.43 s\n"
     ]
    }
   ],
   "source": [
    "%%time\n",
    "with sqlite3_connection(interactions_dump) as db:\n",
    "    tracks_popularity = pd.read_sql(\"\"\"\n",
    "        SELECT\n",
    "            track_id,\n",
    "            COUNT(*) AS popularity\n",
    "        FROM interactions\n",
    "        GROUP BY track_id ORDER BY popularity DESC LIMIT 50\n",
    "    \"\"\", db)\n",
    "    tracks_popularity = pd.merge(\n",
    "        tracks_popularity,\n",
    "        catalog_names,\n",
    "        left_on='track_id', right_on='id', how=\"left\")"
   ]
  },
  {
   "cell_type": "code",
   "execution_count": 25,
   "id": "5d259e31",
   "metadata": {},
   "outputs": [
    {
     "data": {
      "image/png": "[encoded data removed]",
      "text/plain": [
       "<Figure size 640x480 with 1 Axes>"
      ]
     },
     "metadata": {},
     "output_type": "display_data"
    }
   ],
   "source": [
    "sns.barplot(tracks_popularity[:10], x=\"popularity\", y=\"name\", orient=\"h\")\n",
    "_ = plt.title(\"10 наиболее популярных треков\")"
   ]
  },
  {
   "cell_type": "markdown",
   "id": "b1c32a5a-d3be-4f96-8dd9-f7860951020c",
   "metadata": {},
   "source": [
    "Наиболее популярные жанры"
   ]
  },
  {
   "cell_type": "code",
   "execution_count": 26,
   "id": "1bc50491-9235-4d3c-a6c2-297f7c05a959",
   "metadata": {},
   "outputs": [
    {
     "name": "stdout",
     "output_type": "stream",
     "text": [
      "CPU times: user 1min 51s, sys: 12.8 s, total: 2min 4s\n",
      "Wall time: 2min 9s\n"
     ]
    }
   ],
   "source": [
    "%%time\n",
    "with sqlite3_connection(interactions_dump) as db:\n",
    "    genres_popularity = pd.read_sql(\"\"\"\n",
    "        WITH weights AS (\n",
    "            SELECT\n",
    "                aids.track_id,\n",
    "                g.name AS genre_name,\n",
    "                1. / (COUNT(*) OVER (PARTITION BY aids.track_id)) AS weight\n",
    "            FROM tracks_attributes_ids aids\n",
    "            JOIN genres g ON g.id = aids.attribute_id WHERE aids.attribute_type = 'genre'\n",
    "        )\n",
    "        SELECT genre_name, SUM(weight) AS popularity\n",
    "        FROM weights w\n",
    "        JOIN interactions i ON i.track_id = w.track_id\n",
    "        GROUP BY genre_name ORDER BY popularity DESC\n",
    "        LIMIT 100\n",
    "    \"\"\", db)"
   ]
  },
  {
   "cell_type": "code",
   "execution_count": 27,
   "id": "806477b0",
   "metadata": {},
   "outputs": [
    {
     "data": {
      "image/png": "[encoded data removed]",
      "text/plain": [
       "<Figure size 640x480 with 1 Axes>"
      ]
     },
     "metadata": {},
     "output_type": "display_data"
    }
   ],
   "source": [
    "sns.barplot(genres_popularity[:10], x=\"popularity\", y=\"genre_name\", orient=\"h\")\n",
    "_ = plt.title(\"10 наиболее популярных жанров\")"
   ]
  },
  {
   "cell_type": "markdown",
   "id": "15254e66-e80e-473b-ba24-abebea5ccac7",
   "metadata": {},
   "source": [
    "Треки, которые никто не прослушал"
   ]
  },
  {
   "cell_type": "code",
   "execution_count": 28,
   "id": "50bc50c6-2d83-4c7e-97fa-3e7627978438",
   "metadata": {},
   "outputs": [
    {
     "name": "stdout",
     "output_type": "stream",
     "text": [
      "CPU times: user 4.98 s, sys: 845 ms, total: 5.82 s\n",
      "Wall time: 6.07 s\n"
     ]
    }
   ],
   "source": [
    "%%time\n",
    "listen_tracks = read_sqlite3_dump(interactions_dump, \"\"\"\n",
    "    SELECT DISTINCT track_id FROM interactions\n",
    "\"\"\")"
   ]
  },
  {
   "cell_type": "code",
   "execution_count": 29,
   "id": "fc3e47d8",
   "metadata": {},
   "outputs": [
    {
     "name": "stdout",
     "output_type": "stream",
     "text": [
      "Количество непрослушанных треков: 0\n"
     ]
    }
   ],
   "source": [
    "nonlisten_tracks = catalog_names[catalog_names[\"type\"] == \"track\"]\n",
    "nonlisten_tracks = nonlisten_tracks[~nonlisten_tracks[\"id\"].isin(listen_tracks.track_id)]\n",
    "print(f\"Количество непрослушанных треков: {len(nonlisten_tracks)}\")"
   ]
  },
  {
   "cell_type": "markdown",
   "id": "0d850a07-ef1e-462f-891a-1cf89f2e24ef",
   "metadata": {},
   "source": [
    "# Преобразование данных"
   ]
  },
  {
   "cell_type": "markdown",
   "id": "fabcf8d2-1192-4df5-b20b-fbb84689f57a",
   "metadata": {},
   "source": [
    "Преобразуем данные в формат, более пригодный для дальнейшего использования в расчётах рекомендаций.\n",
    "\n",
    "На данном этапе выделим интервал времени для разбиения выборок на тестовую и тренировочную части. В тестовую часть выделим последний неполный месяц - `12-2022`, а предыдущие одиннадцать месяцев используем для обучения модели."
   ]
  },
  {
   "cell_type": "code",
   "execution_count": 5,
   "id": "a425556a-9382-45ca-a04e-f1981a522126",
   "metadata": {},
   "outputs": [
    {
     "name": "stdout",
     "output_type": "stream",
     "text": [
      "CPU times: user 3min 18s, sys: 27.2 s, total: 3min 45s\n",
      "Wall time: 5min 30s\n"
     ]
    }
   ],
   "source": [
    "%%time\n",
    "split_date = pd.to_datetime(\"12-2022\", format=\"%m-%Y\")\n",
    "\n",
    "with sqlite3_connection(interactions_dump) as db:\n",
    "    db.execute(\"DROP TABLE IF EXISTS user_times\")\n",
    "    db.execute(\"\"\"\n",
    "        CREATE TABLE user_times AS\n",
    "            SELECT\n",
    "               user_id,\n",
    "               JULIANDAY(MAX(started_at)) - JULIANDAY(MIN(started_at)) AS delta_time \n",
    "            FROM interactions WHERE started_at < ? GROUP BY user_id\n",
    "    \"\"\", (str(split_date),))\n",
    "    db.execute(\"\"\"\n",
    "        UPDATE user_times SET delta_time = 1 WHERE delta_time <= 0\n",
    "    \"\"\")\n",
    "\n",
    "    db.execute(\"\"\"\n",
    "        CREATE UNIQUE INDEX IF NOT EXISTS user_times_user_id_idx ON user_times (user_id)\n",
    "    \"\"\")\n",
    "\n",
    "    db.execute(\"DROP TABLE IF EXISTS track_ratings\")\n",
    "    db.execute(\"\"\"\n",
    "        CREATE TABLE track_ratings AS \n",
    "        SELECT\n",
    "            i.user_id,\n",
    "            i.track_id, \n",
    "            COUNT(*) / AVG(ut.delta_time) AS rating_count\n",
    "        FROM interactions i JOIN user_times ut ON i.user_id = ut.user_id\n",
    "        WHERE i.started_at < ?\n",
    "        GROUP BY i.user_id, i.track_id\n",
    "    \"\"\", (str(split_date),))\n",
    "\n",
    "    db.execute(\"\"\"\n",
    "        CREATE UNIQUE INDEX IF NOT EXISTS track_ratings_idx ON track_ratings (user_id, track_id)\n",
    "    \"\"\")\n"
   ]
  },
  {
   "cell_type": "code",
   "execution_count": null,
   "id": "453bfbbf",
   "metadata": {},
   "outputs": [
    {
     "ename": "DatabaseError",
     "evalue": "Execution failed on sql '\n    SELECT\n        user_id,\n        track_id,\n        rating_count / (MAX(rating_count) OVER (PARTITION BY user_id)) as rating\n    FROM track_ratings WHERE rating != 1.0 ORDER BY rating ASC LIMIT 100\n': misuse of aliased window function rating",
     "output_type": "error",
     "traceback": [
      "\u001b[0;31m---------------------------------------------------------------------------\u001b[0m",
      "\u001b[0;31mOperationalError\u001b[0m                          Traceback (most recent call last)",
      "File \u001b[0;32m~/my-proj/mle-project-sprint-4-v001/env_recsys_start/lib/python3.10/site-packages/pandas/io/sql.py:2264\u001b[0m, in \u001b[0;36mSQLiteDatabase.execute\u001b[0;34m(self, sql, params)\u001b[0m\n\u001b[1;32m   2263\u001b[0m \u001b[38;5;28;01mtry\u001b[39;00m:\n\u001b[0;32m-> 2264\u001b[0m     \u001b[43mcur\u001b[49m\u001b[38;5;241;43m.\u001b[39;49m\u001b[43mexecute\u001b[49m\u001b[43m(\u001b[49m\u001b[43msql\u001b[49m\u001b[43m,\u001b[49m\u001b[43m \u001b[49m\u001b[38;5;241;43m*\u001b[39;49m\u001b[43margs\u001b[49m\u001b[43m)\u001b[49m\n\u001b[1;32m   2265\u001b[0m     \u001b[38;5;28;01mreturn\u001b[39;00m cur\n",
      "\u001b[0;31mOperationalError\u001b[0m: misuse of aliased window function rating",
      "\nThe above exception was the direct cause of the following exception:\n",
      "\u001b[0;31mDatabaseError\u001b[0m                             Traceback (most recent call last)",
      "Cell \u001b[0;32mIn[8], line 1\u001b[0m\n\u001b[0;32m----> 1\u001b[0m events \u001b[38;5;241m=\u001b[39m \u001b[43mread_sqlite3_dump\u001b[49m\u001b[43m(\u001b[49m\u001b[43minteractions_dump\u001b[49m\u001b[43m,\u001b[49m\u001b[43m \u001b[49m\u001b[38;5;124;43m\"\"\"\u001b[39;49m\n\u001b[1;32m      2\u001b[0m \u001b[38;5;124;43m    SELECT\u001b[39;49m\n\u001b[1;32m      3\u001b[0m \u001b[38;5;124;43m        user_id,\u001b[39;49m\n\u001b[1;32m      4\u001b[0m \u001b[38;5;124;43m        track_id,\u001b[39;49m\n\u001b[1;32m      5\u001b[0m \u001b[38;5;124;43m        rating_count / (MAX(rating_count) OVER (PARTITION BY user_id)) as rating\u001b[39;49m\n\u001b[1;32m      6\u001b[0m \u001b[38;5;124;43m    FROM track_ratings WHERE rating != 1.0 ORDER BY rating ASC LIMIT 100\u001b[39;49m\n\u001b[1;32m      7\u001b[0m \u001b[38;5;124;43m\"\"\"\u001b[39;49m\u001b[43m)\u001b[49m\n",
      "File \u001b[0;32m~/my-proj/mle-project-sprint-4-v001/recsyslib/sqlite.py:19\u001b[0m, in \u001b[0;36mread_sqlite3_dump\u001b[0;34m(dump_file_name, query)\u001b[0m\n\u001b[1;32m     17\u001b[0m \u001b[38;5;28;01mdef\u001b[39;00m\u001b[38;5;250m \u001b[39m\u001b[38;5;21mread_sqlite3_dump\u001b[39m(dump_file_name: \u001b[38;5;28mstr\u001b[39m \u001b[38;5;241m|\u001b[39m Path, query: \u001b[38;5;28mstr\u001b[39m) \u001b[38;5;241m-\u001b[39m\u001b[38;5;241m>\u001b[39m pd\u001b[38;5;241m.\u001b[39mDataFrame:\n\u001b[1;32m     18\u001b[0m     \u001b[38;5;28;01mwith\u001b[39;00m sqlite3_connection(dump_file_name) \u001b[38;5;28;01mas\u001b[39;00m connection:\n\u001b[0;32m---> 19\u001b[0m         \u001b[38;5;28;01mreturn\u001b[39;00m \u001b[43mpd\u001b[49m\u001b[38;5;241;43m.\u001b[39;49m\u001b[43mread_sql_query\u001b[49m\u001b[43m(\u001b[49m\u001b[43mquery\u001b[49m\u001b[43m,\u001b[49m\u001b[43m \u001b[49m\u001b[43mconnection\u001b[49m\u001b[43m)\u001b[49m\n",
      "File \u001b[0;32m~/my-proj/mle-project-sprint-4-v001/env_recsys_start/lib/python3.10/site-packages/pandas/io/sql.py:486\u001b[0m, in \u001b[0;36mread_sql_query\u001b[0;34m(sql, con, index_col, coerce_float, params, parse_dates, chunksize, dtype, dtype_backend)\u001b[0m\n\u001b[1;32m    483\u001b[0m \u001b[38;5;28;01massert\u001b[39;00m dtype_backend \u001b[38;5;129;01mis\u001b[39;00m \u001b[38;5;129;01mnot\u001b[39;00m lib\u001b[38;5;241m.\u001b[39mno_default\n\u001b[1;32m    485\u001b[0m \u001b[38;5;28;01mwith\u001b[39;00m pandasSQL_builder(con) \u001b[38;5;28;01mas\u001b[39;00m pandas_sql:\n\u001b[0;32m--> 486\u001b[0m     \u001b[38;5;28;01mreturn\u001b[39;00m \u001b[43mpandas_sql\u001b[49m\u001b[38;5;241;43m.\u001b[39;49m\u001b[43mread_query\u001b[49m\u001b[43m(\u001b[49m\n\u001b[1;32m    487\u001b[0m \u001b[43m        \u001b[49m\u001b[43msql\u001b[49m\u001b[43m,\u001b[49m\n\u001b[1;32m    488\u001b[0m \u001b[43m        \u001b[49m\u001b[43mindex_col\u001b[49m\u001b[38;5;241;43m=\u001b[39;49m\u001b[43mindex_col\u001b[49m\u001b[43m,\u001b[49m\n\u001b[1;32m    489\u001b[0m \u001b[43m        \u001b[49m\u001b[43mparams\u001b[49m\u001b[38;5;241;43m=\u001b[39;49m\u001b[43mparams\u001b[49m\u001b[43m,\u001b[49m\n\u001b[1;32m    490\u001b[0m \u001b[43m        \u001b[49m\u001b[43mcoerce_float\u001b[49m\u001b[38;5;241;43m=\u001b[39;49m\u001b[43mcoerce_float\u001b[49m\u001b[43m,\u001b[49m\n\u001b[1;32m    491\u001b[0m \u001b[43m        \u001b[49m\u001b[43mparse_dates\u001b[49m\u001b[38;5;241;43m=\u001b[39;49m\u001b[43mparse_dates\u001b[49m\u001b[43m,\u001b[49m\n\u001b[1;32m    492\u001b[0m \u001b[43m        \u001b[49m\u001b[43mchunksize\u001b[49m\u001b[38;5;241;43m=\u001b[39;49m\u001b[43mchunksize\u001b[49m\u001b[43m,\u001b[49m\n\u001b[1;32m    493\u001b[0m \u001b[43m        \u001b[49m\u001b[43mdtype\u001b[49m\u001b[38;5;241;43m=\u001b[39;49m\u001b[43mdtype\u001b[49m\u001b[43m,\u001b[49m\n\u001b[1;32m    494\u001b[0m \u001b[43m        \u001b[49m\u001b[43mdtype_backend\u001b[49m\u001b[38;5;241;43m=\u001b[39;49m\u001b[43mdtype_backend\u001b[49m\u001b[43m,\u001b[49m\n\u001b[1;32m    495\u001b[0m \u001b[43m    \u001b[49m\u001b[43m)\u001b[49m\n",
      "File \u001b[0;32m~/my-proj/mle-project-sprint-4-v001/env_recsys_start/lib/python3.10/site-packages/pandas/io/sql.py:2328\u001b[0m, in \u001b[0;36mSQLiteDatabase.read_query\u001b[0;34m(self, sql, index_col, coerce_float, parse_dates, params, chunksize, dtype, dtype_backend)\u001b[0m\n\u001b[1;32m   2317\u001b[0m \u001b[38;5;28;01mdef\u001b[39;00m\u001b[38;5;250m \u001b[39m\u001b[38;5;21mread_query\u001b[39m(\n\u001b[1;32m   2318\u001b[0m     \u001b[38;5;28mself\u001b[39m,\n\u001b[1;32m   2319\u001b[0m     sql,\n\u001b[0;32m   (...)\u001b[0m\n\u001b[1;32m   2326\u001b[0m     dtype_backend: DtypeBackend \u001b[38;5;241m|\u001b[39m Literal[\u001b[38;5;124m\"\u001b[39m\u001b[38;5;124mnumpy\u001b[39m\u001b[38;5;124m\"\u001b[39m] \u001b[38;5;241m=\u001b[39m \u001b[38;5;124m\"\u001b[39m\u001b[38;5;124mnumpy\u001b[39m\u001b[38;5;124m\"\u001b[39m,\n\u001b[1;32m   2327\u001b[0m ) \u001b[38;5;241m-\u001b[39m\u001b[38;5;241m>\u001b[39m DataFrame \u001b[38;5;241m|\u001b[39m Iterator[DataFrame]:\n\u001b[0;32m-> 2328\u001b[0m     cursor \u001b[38;5;241m=\u001b[39m \u001b[38;5;28;43mself\u001b[39;49m\u001b[38;5;241;43m.\u001b[39;49m\u001b[43mexecute\u001b[49m\u001b[43m(\u001b[49m\u001b[43msql\u001b[49m\u001b[43m,\u001b[49m\u001b[43m \u001b[49m\u001b[43mparams\u001b[49m\u001b[43m)\u001b[49m\n\u001b[1;32m   2329\u001b[0m     columns \u001b[38;5;241m=\u001b[39m [col_desc[\u001b[38;5;241m0\u001b[39m] \u001b[38;5;28;01mfor\u001b[39;00m col_desc \u001b[38;5;129;01min\u001b[39;00m cursor\u001b[38;5;241m.\u001b[39mdescription]\n\u001b[1;32m   2331\u001b[0m     \u001b[38;5;28;01mif\u001b[39;00m chunksize \u001b[38;5;129;01mis\u001b[39;00m \u001b[38;5;129;01mnot\u001b[39;00m \u001b[38;5;28;01mNone\u001b[39;00m:\n",
      "File \u001b[0;32m~/my-proj/mle-project-sprint-4-v001/env_recsys_start/lib/python3.10/site-packages/pandas/io/sql.py:2276\u001b[0m, in \u001b[0;36mSQLiteDatabase.execute\u001b[0;34m(self, sql, params)\u001b[0m\n\u001b[1;32m   2273\u001b[0m     \u001b[38;5;28;01mraise\u001b[39;00m ex \u001b[38;5;28;01mfrom\u001b[39;00m\u001b[38;5;250m \u001b[39m\u001b[38;5;21;01minner_exc\u001b[39;00m\n\u001b[1;32m   2275\u001b[0m ex \u001b[38;5;241m=\u001b[39m DatabaseError(\u001b[38;5;124mf\u001b[39m\u001b[38;5;124m\"\u001b[39m\u001b[38;5;124mExecution failed on sql \u001b[39m\u001b[38;5;124m'\u001b[39m\u001b[38;5;132;01m{\u001b[39;00msql\u001b[38;5;132;01m}\u001b[39;00m\u001b[38;5;124m'\u001b[39m\u001b[38;5;124m: \u001b[39m\u001b[38;5;132;01m{\u001b[39;00mexc\u001b[38;5;132;01m}\u001b[39;00m\u001b[38;5;124m\"\u001b[39m)\n\u001b[0;32m-> 2276\u001b[0m \u001b[38;5;28;01mraise\u001b[39;00m ex \u001b[38;5;28;01mfrom\u001b[39;00m\u001b[38;5;250m \u001b[39m\u001b[38;5;21;01mexc\u001b[39;00m\n",
      "\u001b[0;31mDatabaseError\u001b[0m: Execution failed on sql '\n    SELECT\n        user_id,\n        track_id,\n        rating_count / (MAX(rating_count) OVER (PARTITION BY user_id)) as rating\n    FROM track_ratings WHERE rating != 1.0 ORDER BY rating ASC LIMIT 100\n': misuse of aliased window function rating"
     ]
    }
   ],
   "source": [
    "events = read_sqlite3_dump(interactions_dump, \"\"\"\n",
    "    SELECT\n",
    "        user_id,\n",
    "        track_id,\n",
    "        rating_count / (MAX(rating_count) OVER (PARTITION BY user_id)) as rating\n",
    "    FROM track_ratings ORDER BY rating ASC LIMIT 100\n",
    "\"\"\")"
   ]
  },
  {
   "cell_type": "code",
   "execution_count": 7,
   "id": "e2a0667c",
   "metadata": {},
   "outputs": [
    {
     "data": {
      "text/html": [
       "<div>\n",
       "<style scoped>\n",
       "    .dataframe tbody tr th:only-of-type {\n",
       "        vertical-align: middle;\n",
       "    }\n",
       "\n",
       "    .dataframe tbody tr th {\n",
       "        vertical-align: top;\n",
       "    }\n",
       "\n",
       "    .dataframe thead th {\n",
       "        text-align: right;\n",
       "    }\n",
       "</style>\n",
       "<table border=\"1\" class=\"dataframe\">\n",
       "  <thead>\n",
       "    <tr style=\"text-align: right;\">\n",
       "      <th></th>\n",
       "      <th>user_id</th>\n",
       "      <th>track_id</th>\n",
       "      <th>rating</th>\n",
       "    </tr>\n",
       "  </thead>\n",
       "  <tbody>\n",
       "    <tr>\n",
       "      <th>0</th>\n",
       "      <td>0</td>\n",
       "      <td>99262</td>\n",
       "      <td>1.0</td>\n",
       "    </tr>\n",
       "    <tr>\n",
       "      <th>1</th>\n",
       "      <td>0</td>\n",
       "      <td>589498</td>\n",
       "      <td>1.0</td>\n",
       "    </tr>\n",
       "    <tr>\n",
       "      <th>2</th>\n",
       "      <td>0</td>\n",
       "      <td>590262</td>\n",
       "      <td>1.0</td>\n",
       "    </tr>\n",
       "    <tr>\n",
       "      <th>3</th>\n",
       "      <td>0</td>\n",
       "      <td>590303</td>\n",
       "      <td>1.0</td>\n",
       "    </tr>\n",
       "    <tr>\n",
       "      <th>4</th>\n",
       "      <td>0</td>\n",
       "      <td>590692</td>\n",
       "      <td>1.0</td>\n",
       "    </tr>\n",
       "    <tr>\n",
       "      <th>...</th>\n",
       "      <td>...</td>\n",
       "      <td>...</td>\n",
       "      <td>...</td>\n",
       "    </tr>\n",
       "    <tr>\n",
       "      <th>95</th>\n",
       "      <td>3</td>\n",
       "      <td>48591644</td>\n",
       "      <td>1.0</td>\n",
       "    </tr>\n",
       "    <tr>\n",
       "      <th>96</th>\n",
       "      <td>3</td>\n",
       "      <td>48591706</td>\n",
       "      <td>1.0</td>\n",
       "    </tr>\n",
       "    <tr>\n",
       "      <th>97</th>\n",
       "      <td>3</td>\n",
       "      <td>49961817</td>\n",
       "      <td>1.0</td>\n",
       "    </tr>\n",
       "    <tr>\n",
       "      <th>98</th>\n",
       "      <td>3</td>\n",
       "      <td>50834580</td>\n",
       "      <td>1.0</td>\n",
       "    </tr>\n",
       "    <tr>\n",
       "      <th>99</th>\n",
       "      <td>3</td>\n",
       "      <td>51452575</td>\n",
       "      <td>1.0</td>\n",
       "    </tr>\n",
       "  </tbody>\n",
       "</table>\n",
       "<p>100 rows × 3 columns</p>\n",
       "</div>"
      ],
      "text/plain": [
       "    user_id  track_id  rating\n",
       "0         0     99262     1.0\n",
       "1         0    589498     1.0\n",
       "2         0    590262     1.0\n",
       "3         0    590303     1.0\n",
       "4         0    590692     1.0\n",
       "..      ...       ...     ...\n",
       "95        3  48591644     1.0\n",
       "96        3  48591706     1.0\n",
       "97        3  49961817     1.0\n",
       "98        3  50834580     1.0\n",
       "99        3  51452575     1.0\n",
       "\n",
       "[100 rows x 3 columns]"
      ]
     },
     "execution_count": 7,
     "metadata": {},
     "output_type": "execute_result"
    }
   ],
   "source": [
    "events"
   ]
  },
  {
   "cell_type": "markdown",
   "id": "4d1be653-eed8-4fa0-a9c5-3811b080d71d",
   "metadata": {},
   "source": [
    "# Сохранение данных"
   ]
  },
  {
   "cell_type": "markdown",
   "id": "36f1314a-3af3-4faf-a0b1-3045173d1500",
   "metadata": {},
   "source": [
    "Сохраним данные в двух файлах в персональном S3-бакете по пути `recsys/data/`:\n",
    "- `items.parquet` — все данные о музыкальных треках,\n",
    "- `events.parquet` — все данные о взаимодействиях."
   ]
  },
  {
   "cell_type": "code",
   "execution_count": null,
   "id": "9f77af17-7705-4fae-9aad-db579b39faad",
   "metadata": {},
   "outputs": [],
   "source": []
  },
  {
   "cell_type": "markdown",
   "id": "72ecbbed-c560-44d9-9c14-86c7dc76f399",
   "metadata": {},
   "source": [
    "# Очистка памяти"
   ]
  },
  {
   "cell_type": "markdown",
   "id": "b5358ede-ba6e-4c4f-bd73-5b9344f0ba79",
   "metadata": {},
   "source": [
    "Здесь, может понадобится очистка памяти для высвобождения ресурсов для выполнения кода ниже. \n",
    "\n",
    "Приведите соответствующие код, комментарии, например:\n",
    "- код для удаление более ненужных переменных,\n",
    "- комментарий, что следует перезапустить kernel, выполнить такие-то начальные секции и продолжить с этапа 3."
   ]
  },
  {
   "cell_type": "code",
   "execution_count": null,
   "id": "767fe920-e12e-4ad8-b04e-56e8091fac9f",
   "metadata": {},
   "outputs": [],
   "source": []
  },
  {
   "cell_type": "markdown",
   "id": "708503df-ee89-4cf3-8489-093dc478e2a8",
   "metadata": {},
   "source": [
    "# === ЭТАП 3 ==="
   ]
  },
  {
   "cell_type": "markdown",
   "id": "fd77de22-e10f-4b42-85c1-8fb6f805fe68",
   "metadata": {},
   "source": [
    "# Загрузка данных"
   ]
  },
  {
   "cell_type": "markdown",
   "id": "780a4241-1ecd-4a3e-bbb3-fc2f6ca94f68",
   "metadata": {},
   "source": [
    "Если необходимо, то загружаем items.parquet, events.parquet."
   ]
  },
  {
   "cell_type": "code",
   "execution_count": null,
   "id": "f19fc8a5-bd2c-40d7-864a-ee75aca6d512",
   "metadata": {},
   "outputs": [],
   "source": []
  },
  {
   "cell_type": "code",
   "execution_count": null,
   "id": "5db1e801-5845-4ce3-86f2-c2fa30f68cc5",
   "metadata": {},
   "outputs": [],
   "source": []
  },
  {
   "cell_type": "markdown",
   "id": "a694c023-6477-490b-939d-1cfa6f5f1b72",
   "metadata": {},
   "source": [
    "# Разбиение данных"
   ]
  },
  {
   "cell_type": "markdown",
   "id": "fbd5f6e0-54e7-4428-8678-eabce505d82c",
   "metadata": {},
   "source": [
    "Разбиваем данные на тренировочную, тестовую выборки."
   ]
  },
  {
   "cell_type": "code",
   "execution_count": null,
   "id": "00c2dfa5-d8a2-47d1-922e-6eefee2c62d1",
   "metadata": {},
   "outputs": [],
   "source": []
  },
  {
   "cell_type": "code",
   "execution_count": null,
   "id": "26fe3e3c-8c5f-4437-bf13-9191adef08bb",
   "metadata": {},
   "outputs": [],
   "source": []
  },
  {
   "cell_type": "markdown",
   "id": "9131c7e6-8852-4556-b510-51f7253cc299",
   "metadata": {},
   "source": [
    "# Топ популярных"
   ]
  },
  {
   "cell_type": "markdown",
   "id": "dd70d43a-88cc-4719-b291-feaed7136f30",
   "metadata": {},
   "source": [
    "Рассчитаем рекомендации как топ популярных."
   ]
  },
  {
   "cell_type": "code",
   "execution_count": null,
   "id": "ee45e200-b7d6-4f56-9077-aad431689b96",
   "metadata": {},
   "outputs": [],
   "source": []
  },
  {
   "cell_type": "code",
   "execution_count": null,
   "id": "7690c86f-7aa9-46ed-bba5-2c837626411e",
   "metadata": {},
   "outputs": [],
   "source": []
  },
  {
   "cell_type": "markdown",
   "id": "2ad231f2-6158-421a-b7fa-01d8bc3ed572",
   "metadata": {},
   "source": [
    "# Персональные"
   ]
  },
  {
   "cell_type": "markdown",
   "id": "86159460-cd9d-4b63-8248-604ea3c9aebf",
   "metadata": {},
   "source": [
    "Рассчитаем персональные рекомендации."
   ]
  },
  {
   "cell_type": "code",
   "execution_count": null,
   "id": "d2944822-569c-4f9b-82dc-70a7fa2d542e",
   "metadata": {},
   "outputs": [],
   "source": []
  },
  {
   "cell_type": "code",
   "execution_count": null,
   "id": "1e8cdb58-3a8c-45ad-8e5f-7f950314aa56",
   "metadata": {},
   "outputs": [],
   "source": []
  },
  {
   "cell_type": "markdown",
   "id": "5f09dc7e-7c91-4355-860a-b9cfb9f33f15",
   "metadata": {},
   "source": [
    "# Похожие"
   ]
  },
  {
   "cell_type": "markdown",
   "id": "1dfcb683-b440-40a8-9975-894156a53872",
   "metadata": {},
   "source": [
    "Рассчитаем похожие, они позже пригодятся для онлайн-рекомендаций."
   ]
  },
  {
   "cell_type": "code",
   "execution_count": null,
   "id": "a75d07ee-4b12-4ce5-aa85-e45cb7a7a4f0",
   "metadata": {},
   "outputs": [],
   "source": []
  },
  {
   "cell_type": "code",
   "execution_count": null,
   "id": "ce370904-4c49-4152-8706-416074ea9b9a",
   "metadata": {},
   "outputs": [],
   "source": []
  },
  {
   "cell_type": "markdown",
   "id": "0087a3e7-ca9f-42cd-944c-944222c1baef",
   "metadata": {},
   "source": [
    "# Построение признаков"
   ]
  },
  {
   "cell_type": "markdown",
   "id": "e82a32e1-b90b-4eaf-9439-fc8deab9f34b",
   "metadata": {},
   "source": [
    "Построим три признака, можно больше, для ранжирующей модели."
   ]
  },
  {
   "cell_type": "code",
   "execution_count": null,
   "id": "05b4ae84-406a-44a4-abec-4f80f93e3004",
   "metadata": {},
   "outputs": [],
   "source": []
  },
  {
   "cell_type": "code",
   "execution_count": null,
   "id": "00f84c35-f544-4c3d-ad53-9b1d2b684c75",
   "metadata": {},
   "outputs": [],
   "source": []
  },
  {
   "cell_type": "markdown",
   "id": "47bcf88d-b236-46f0-a6f3-38ddd64895fe",
   "metadata": {},
   "source": [
    "# Ранжирование рекомендаций"
   ]
  },
  {
   "cell_type": "markdown",
   "id": "e8cd8223-3418-4493-8c87-1f76286ebda0",
   "metadata": {},
   "source": [
    "Построим ранжирующую модель, чтобы сделать рекомендации более точными. Отранжируем рекомендации."
   ]
  },
  {
   "cell_type": "code",
   "execution_count": null,
   "id": "79f1dd92-32a9-463d-827e-8bb9ee5bbb54",
   "metadata": {},
   "outputs": [],
   "source": []
  },
  {
   "cell_type": "code",
   "execution_count": null,
   "id": "6dbe4db4-1ac5-44da-a13c-8e7f9768ab73",
   "metadata": {},
   "outputs": [],
   "source": []
  },
  {
   "cell_type": "markdown",
   "id": "b3c84071-45b5-4a15-a683-e0ab034a3128",
   "metadata": {},
   "source": [
    "# Оценка качества"
   ]
  },
  {
   "cell_type": "markdown",
   "id": "1b107fe4-554e-42b1-87d9-c435a52bb77a",
   "metadata": {},
   "source": [
    "Проверим оценку качества трёх типов рекомендаций: \n",
    "\n",
    "- топ популярных,\n",
    "- персональных, полученных при помощи ALS,\n",
    "- итоговых\n",
    "  \n",
    "по четырем метрикам: recall, precision, coverage, novelty."
   ]
  },
  {
   "cell_type": "code",
   "execution_count": null,
   "id": "94d6f388-aecb-443e-8647-14014e932d4d",
   "metadata": {},
   "outputs": [],
   "source": []
  },
  {
   "cell_type": "code",
   "execution_count": null,
   "id": "26df411f-14c1-4848-8797-f37afe449cc6",
   "metadata": {},
   "outputs": [],
   "source": []
  },
  {
   "cell_type": "markdown",
   "id": "f1c8d38c-32b0-46a4-96f0-cd01dac708bc",
   "metadata": {},
   "source": [
    "# === Выводы, метрики ==="
   ]
  },
  {
   "cell_type": "markdown",
   "id": "f7d7d5d8-7d1e-4fdf-a6cd-83e5ce92c684",
   "metadata": {},
   "source": [
    "Основные выводы при работе над расчётом рекомендаций, рассчитанные метрики."
   ]
  },
  {
   "cell_type": "code",
   "execution_count": null,
   "id": "6403097d-db36-46d9-8952-613c9bd51b05",
   "metadata": {},
   "outputs": [],
   "source": []
  },
  {
   "cell_type": "code",
   "execution_count": null,
   "id": "986cfdd5-6f2e-4de6-8666-85804c87d04b",
   "metadata": {},
   "outputs": [],
   "source": []
  }
 ],
 "metadata": {
  "kernelspec": {
   "display_name": "env_recsys_start",
   "language": "python",
   "name": "python3"
  },
  "language_info": {
   "codemirror_mode": {
    "name": "ipython",
    "version": 3
   },
   "file_extension": ".py",
   "mimetype": "text/x-python",
   "name": "python",
   "nbconvert_exporter": "python",
   "pygments_lexer": "ipython3",
   "version": "3.10.12"
  }
 },
 "nbformat": 4,
 "nbformat_minor": 5
}
